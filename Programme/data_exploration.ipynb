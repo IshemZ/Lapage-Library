{
 "cells": [
  {
   "cell_type": "code",
   "execution_count": 65,
   "metadata": {},
   "outputs": [],
   "source": [
    "from biblio_modules import load_csv_files_as_df, statistique_rapide_df\n",
    "import pandas as pd\n",
    "import pyarrow\n",
    "import numpy as np\n",
    "import matplotlib.pyplot as plt\n",
    "\n",
    "pd.options.display.float_format = \"{:.2f}\".format\n",
    "\n",
    "customers_xplo = pd.read_csv(\"../Source/customers.csv\", sep=\";\")\n",
    "products_xplo = pd.read_csv(\"../Source/products.csv\", sep=\";\")\n",
    "transactions_xplo = pd.read_csv(\"../Source/Transactions.csv\", sep=\";\")\n"
   ]
  },
  {
   "cell_type": "markdown",
   "metadata": {
    "notebookRunGroups": {
     "groupValue": "1"
    }
   },
   "source": [
    "<div style=\"background-color: RGB(800,150,50);\" >\n",
    "<h2 style=\"margin: auto; padding: 20px; color:#fff; \"> Exploration : customers </h2>\n",
    "</div>"
   ]
  },
  {
   "cell_type": "code",
   "execution_count": 66,
   "metadata": {
    "notebookRunGroups": {
     "groupValue": "1"
    }
   },
   "outputs": [
    {
     "data": {
      "text/html": [
       "<div>\n",
       "<style scoped>\n",
       "    .dataframe tbody tr th:only-of-type {\n",
       "        vertical-align: middle;\n",
       "    }\n",
       "\n",
       "    .dataframe tbody tr th {\n",
       "        vertical-align: top;\n",
       "    }\n",
       "\n",
       "    .dataframe thead th {\n",
       "        text-align: right;\n",
       "    }\n",
       "</style>\n",
       "<table border=\"1\" class=\"dataframe\">\n",
       "  <thead>\n",
       "    <tr style=\"text-align: right;\">\n",
       "      <th></th>\n",
       "      <th>client_id</th>\n",
       "      <th>sex</th>\n",
       "      <th>birth</th>\n",
       "    </tr>\n",
       "  </thead>\n",
       "  <tbody>\n",
       "    <tr>\n",
       "      <th>0</th>\n",
       "      <td>c_4410</td>\n",
       "      <td>f</td>\n",
       "      <td>1967</td>\n",
       "    </tr>\n",
       "    <tr>\n",
       "      <th>1</th>\n",
       "      <td>c_7839</td>\n",
       "      <td>f</td>\n",
       "      <td>1975</td>\n",
       "    </tr>\n",
       "    <tr>\n",
       "      <th>2</th>\n",
       "      <td>c_1699</td>\n",
       "      <td>f</td>\n",
       "      <td>1984</td>\n",
       "    </tr>\n",
       "    <tr>\n",
       "      <th>3</th>\n",
       "      <td>c_5961</td>\n",
       "      <td>f</td>\n",
       "      <td>1962</td>\n",
       "    </tr>\n",
       "    <tr>\n",
       "      <th>4</th>\n",
       "      <td>c_5320</td>\n",
       "      <td>m</td>\n",
       "      <td>1943</td>\n",
       "    </tr>\n",
       "  </tbody>\n",
       "</table>\n",
       "</div>"
      ],
      "text/plain": [
       "  client_id sex  birth\n",
       "0    c_4410   f   1967\n",
       "1    c_7839   f   1975\n",
       "2    c_1699   f   1984\n",
       "3    c_5961   f   1962\n",
       "4    c_5320   m   1943"
      ]
     },
     "execution_count": 66,
     "metadata": {},
     "output_type": "execute_result"
    }
   ],
   "source": [
    "customers_xplo.head()"
   ]
  },
  {
   "cell_type": "code",
   "execution_count": 67,
   "metadata": {},
   "outputs": [
    {
     "name": "stdout",
     "output_type": "stream",
     "text": [
      "les 3 colonnes de customers : ['client_id' 'sex' 'birth']\n",
      " L'année de naissance moyen est 1978.2756060781812 \n",
      " le client le plus vieux est né en 1929 \n",
      " le client le plus jeune est né en 2004\n",
      " le dataset est de dimension (8621, 3)\n",
      "----------------------------------\n",
      " le nombre de cellules NULL par colonne dans le dataset est de client_id    0\n",
      "sex          0\n",
      "birth        0\n",
      "dtype: int64\n",
      "----------------------------------\n",
      " la colonne 'sexe' devrait contenir deux valeurs max, et elle est de sex\n",
      "f    4490\n",
      "m    4131\n",
      "Name: count, dtype: int64\n",
      "----------------------------------\n",
      " le nombre d'id_client unique est de 8621 pour 8621 lignes au total\n",
      "----------------------------------\n",
      "       client_id   sex   birth\n",
      "count       8621  8621 8621.00\n",
      "unique      8621     2     NaN\n",
      "top       c_4410     f     NaN\n",
      "freq           1  4490     NaN\n",
      "mean         NaN   NaN 1978.28\n",
      "std          NaN   NaN   16.92\n",
      "min          NaN   NaN 1929.00\n",
      "25%          NaN   NaN 1966.00\n",
      "50%          NaN   NaN 1979.00\n",
      "75%          NaN   NaN 1992.00\n",
      "max          NaN   NaN 2004.00\n"
     ]
    }
   ],
   "source": [
    "\n",
    "print(f\"les 3 colonnes de customers : {customers_xplo.columns.to_numpy()}\")\n",
    "print(f\" L'année de naissance moyen est {customers_xplo.birth.mean()} \")\n",
    "print(f\" le client le plus vieux est né en {customers_xplo.birth.min()} \")\n",
    "print(f\" le client le plus jeune est né en {customers_xplo.birth.max()}\")\n",
    "print(f\" le dataset est de dimension {customers_xplo.shape}\")\n",
    "print(\"\"\"----------------------------------\"\"\")\n",
    "print(f\" le nombre de cellules NULL par colonne dans le dataset est de {customers_xplo.isna().sum()}\")\n",
    "print(\"\"\"----------------------------------\"\"\")\n",
    "print(f\" la colonne 'sexe' devrait contenir deux valeurs max, et elle est de {customers_xplo['sex'].value_counts()}\")\n",
    "print(\"\"\"----------------------------------\"\"\")\n",
    "print(f\" le nombre d'id_client unique est de {customers_xplo['client_id'].nunique()} pour {customers_xplo['client_id'].count()} lignes au total\")\n",
    "print(\"\"\"----------------------------------\"\"\")\n",
    "print(customers_xplo.describe(include='all'))"
   ]
  },
  {
   "cell_type": "code",
   "execution_count": 68,
   "metadata": {},
   "outputs": [
    {
     "name": "stdout",
     "output_type": "stream",
     "text": [
      "<class 'pandas.core.frame.DataFrame'>\n",
      "RangeIndex: 8621 entries, 0 to 8620\n",
      "Data columns (total 3 columns):\n",
      " #   Column     Non-Null Count  Dtype \n",
      "---  ------     --------------  ----- \n",
      " 0   client_id  8621 non-null   object\n",
      " 1   sex        8621 non-null   object\n",
      " 2   birth      8621 non-null   int64 \n",
      "dtypes: int64(1), object(2)\n",
      "memory usage: 202.2+ KB\n"
     ]
    }
   ],
   "source": [
    "customers_xplo.info()"
   ]
  },
  {
   "cell_type": "markdown",
   "metadata": {},
   "source": [
    "<div style=\"background-color: RGB(800,150,50);\" >\n",
    "<h2 style=\"margin: auto; padding: 20px; color:#fff; \"> Exploration : products </h2>\n",
    "</div>"
   ]
  },
  {
   "cell_type": "code",
   "execution_count": 69,
   "metadata": {},
   "outputs": [
    {
     "name": "stdout",
     "output_type": "stream",
     "text": [
      "<class 'pandas.core.frame.DataFrame'>\n",
      "RangeIndex: 3286 entries, 0 to 3285\n",
      "Data columns (total 3 columns):\n",
      " #   Column   Non-Null Count  Dtype  \n",
      "---  ------   --------------  -----  \n",
      " 0   id_prod  3286 non-null   object \n",
      " 1   price    3286 non-null   float64\n",
      " 2   categ    3286 non-null   int64  \n",
      "dtypes: float64(1), int64(1), object(1)\n",
      "memory usage: 77.1+ KB\n",
      "None\n"
     ]
    }
   ],
   "source": [
    "products_xplo.head()\n",
    "print(products_xplo.info())"
   ]
  },
  {
   "cell_type": "code",
   "execution_count": 73,
   "metadata": {},
   "outputs": [
    {
     "name": "stdout",
     "output_type": "stream",
     "text": [
      "les 3 colonnes de customers : ['id_prod' 'price' 'categ']\n",
      " Le prix moyen sur le store en ligne 21.86 euros\n",
      " le prix le plus bas dans le magasin en ligne et de 0.62 euros\n",
      " le prix le plus haut dans le magasin en ligne et de 300.0 euros\n",
      " le dataset est de dimension (3286, 3)\n",
      "----------------------------------\n",
      " le nombre de cellules NULL par colonne dans le dataset est de id_prod    0\n",
      "price      0\n",
      "categ      0\n",
      "dtype: int64\n",
      "----------------------------------\n",
      " la colonne 'categ' devrait contenir 3 categorie max, et elle est de categ\n",
      "0    2308\n",
      "1     739\n",
      "2     239\n",
      "Name: count, dtype: int64\n",
      "----------------------------------\n",
      " le nombre d'id_produit unique est de 3286 pour 3286 lignes au total\n",
      "----------------------------------\n",
      "       id_prod   price   categ\n",
      "count     3286 3286.00 3286.00\n",
      "unique    3286     NaN     NaN\n",
      "top     0_1421     NaN     NaN\n",
      "freq         1     NaN     NaN\n",
      "mean       NaN   21.86    0.37\n",
      "std        NaN   29.85    0.62\n",
      "min        NaN    0.62    0.00\n",
      "25%        NaN    6.99    0.00\n",
      "50%        NaN   13.07    0.00\n",
      "75%        NaN   22.99    1.00\n",
      "max        NaN  300.00    2.00\n"
     ]
    }
   ],
   "source": [
    "\n",
    "print(f\"les 3 colonnes de customers : {products_xplo.columns.to_numpy()}\")\n",
    "print(f\" Le prix moyen sur le store en ligne {(round(products_xplo.price.mean(), 2))} euros\")\n",
    "print(f\" le prix le plus bas dans le magasin en ligne et de {products_xplo.price.min()} euros\")\n",
    "print(f\" le prix le plus haut dans le magasin en ligne et de {products_xplo.price.max()} euros\")\n",
    "print(f\" le dataset est de dimension {products_xplo.shape}\")\n",
    "print(\"\"\"----------------------------------\"\"\")\n",
    "print(f\" le nombre de cellules NULL par colonne dans le dataset est de {products_xplo.isna().sum()}\")\n",
    "print(\"\"\"----------------------------------\"\"\")\n",
    "print(f\" la colonne 'categ' devrait contenir 3 categorie max, et elle est de {products_xplo['categ'].value_counts()}\")\n",
    "print(\"\"\"----------------------------------\"\"\")\n",
    "print(f\" le nombre d'id_produit unique est de {products_xplo['id_prod'].nunique()} pour {products_xplo['id_prod'].count()} lignes au total\")\n",
    "print(\"\"\"----------------------------------\"\"\")\n",
    "print(products_xplo.describe(include='all'))"
   ]
  },
  {
   "cell_type": "markdown",
   "metadata": {},
   "source": [
    "<div style=\"background-color: RGB(800,150,50);\" >\n",
    "<h2 style=\"margin: auto; padding: 20px; color:#fff; \"> Exploration : transactions </h2>\n",
    "</div>"
   ]
  },
  {
   "cell_type": "code",
   "execution_count": 74,
   "metadata": {},
   "outputs": [
    {
     "name": "stdout",
     "output_type": "stream",
     "text": [
      "<class 'pandas.core.frame.DataFrame'>\n",
      "RangeIndex: 687534 entries, 0 to 687533\n",
      "Data columns (total 4 columns):\n",
      " #   Column      Non-Null Count   Dtype \n",
      "---  ------      --------------   ----- \n",
      " 0   id_prod     687534 non-null  object\n",
      " 1   date        687534 non-null  object\n",
      " 2   session_id  687534 non-null  object\n",
      " 3   client_id   687534 non-null  object\n",
      "dtypes: object(4)\n",
      "memory usage: 21.0+ MB\n",
      "None\n"
     ]
    }
   ],
   "source": [
    "transactions_xplo.head()\n",
    "print(transactions_xplo.info())"
   ]
  },
  {
   "cell_type": "code",
   "execution_count": 75,
   "metadata": {},
   "outputs": [
    {
     "name": "stdout",
     "output_type": "stream",
     "text": [
      "les 4 colonnes de customers : ['id_prod' 'date' 'session_id' 'client_id']\n",
      " le dataset est de dimension (687534, 4)\n",
      "----------------------------------\n",
      " le nombre de cellules NULL par colonne dans le dataset est de id_prod       0\n",
      "date          0\n",
      "session_id    0\n",
      "client_id     0\n",
      "dtype: int64\n",
      "----------------------------------\n",
      "----------------------------------\n",
      " le nombre de'session_id' unique est de 345505 pour 687534 lignes au total\n",
      "----------------------------------\n",
      "       id_prod                        date session_id client_id\n",
      "count   687534                      687534     687534    687534\n",
      "unique    3265                      687419     345505      8600\n",
      "top      1_369  2021-10-06 21:29:59.752585   s_118668    c_1609\n",
      "freq      2340                           2         14     25586\n"
     ]
    }
   ],
   "source": [
    "\n",
    "print(f\"les 4 colonnes de customers : {transactions_xplo.columns.to_numpy()}\")\n",
    "#print(f\" Le prix moyen sur le store en ligne {(round(transactions_xplo.price.mean(), 2))} euros\")\n",
    "#print(f\" le prix le plus bas dans le magasin en ligne et de {transactions_xplo.price.min()} euros\")\n",
    "#print(f\" le prix le plus haut dans le magasin en ligne et de {transactions_xplo.price.max()} euros\")\n",
    "print(f\" le dataset est de dimension {transactions_xplo.shape}\")\n",
    "print(\"\"\"----------------------------------\"\"\")\n",
    "print(f\" le nombre de cellules NULL par colonne dans le dataset est de {transactions_xplo.isna().sum()}\")\n",
    "print(\"\"\"----------------------------------\"\"\")\n",
    "#print(f\" la colonne 'categ' devrait contenir 3 categorie max, et elle est de {transactions_xplo['categ'].value_counts()}\")\n",
    "print(\"\"\"----------------------------------\"\"\")\n",
    "print(f\" le nombre de'session_id' unique est de {transactions_xplo['session_id'].nunique()} pour {transactions_xplo['session_id'].count()} lignes au total\")\n",
    "print(\"\"\"----------------------------------\"\"\")\n",
    "print(transactions_xplo.describe(include='all'))"
   ]
  }
 ],
 "metadata": {
  "kernelspec": {
   "display_name": "venv",
   "language": "python",
   "name": "python3"
  },
  "language_info": {
   "codemirror_mode": {
    "name": "ipython",
    "version": 3
   },
   "file_extension": ".py",
   "mimetype": "text/x-python",
   "name": "python",
   "nbconvert_exporter": "python",
   "pygments_lexer": "ipython3",
   "version": "3.12.3"
  }
 },
 "nbformat": 4,
 "nbformat_minor": 2
}
