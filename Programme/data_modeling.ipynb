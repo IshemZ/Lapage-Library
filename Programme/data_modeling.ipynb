{
 "cells": [
  {
   "cell_type": "code",
   "execution_count": 18,
   "metadata": {},
   "outputs": [],
   "source": [
    "import biblio_modules\n",
    "\n",
    "import pandas as pd\n",
    "import numpy as np\n",
    "import matplotlib.pyplot as plt"
   ]
  },
  {
   "cell_type": "code",
   "execution_count": 22,
   "metadata": {},
   "outputs": [],
   "source": [
    "#Import de la table exporté en utilisant les date comme index (+ drop de l'ancien index)\n",
    "df_processed = pd.read_csv('../Source/Data_processed/lapage_all.csv', sep=\";\", parse_dates=['Timestamps'], index_col=['Timestamps']).drop(columns='Unnamed: 0')"
   ]
  },
  {
   "cell_type": "code",
   "execution_count": 24,
   "metadata": {},
   "outputs": [
    {
     "name": "stdout",
     "output_type": "stream",
     "text": [
      "<class 'pandas.core.frame.DataFrame'>\n",
      "DatetimeIndex: 687534 entries, 2021-03-01 00:01:07.843138 to 2023-02-28 23:58:30.792755\n",
      "Data columns (total 7 columns):\n",
      " #   Column      Non-Null Count   Dtype  \n",
      "---  ------      --------------   -----  \n",
      " 0   id_prod     687534 non-null  object \n",
      " 1   session_id  687534 non-null  object \n",
      " 2   client_id   687534 non-null  object \n",
      " 3   sex         687534 non-null  object \n",
      " 4   birth       687534 non-null  int64  \n",
      " 5   price       687534 non-null  float64\n",
      " 6   categ       687534 non-null  int64  \n",
      "dtypes: float64(1), int64(2), object(4)\n",
      "memory usage: 42.0+ MB\n"
     ]
    }
   ],
   "source": [
    "df_processed.info()"
   ]
  },
  {
   "cell_type": "code",
   "execution_count": 25,
   "metadata": {},
   "outputs": [
    {
     "data": {
      "text/plain": [
       "DatetimeIndex(['2021-03-01 00:01:07.843138', '2021-03-01 00:02:26.047414',\n",
       "               '2021-03-01 00:02:38.311413', '2021-03-01 00:04:54.559692',\n",
       "               '2021-03-01 00:05:18.801198', '2021-03-01 00:05:44.999018',\n",
       "               '2021-03-01 00:07:04.371179', '2021-03-01 00:07:48.507530',\n",
       "               '2021-03-01 00:09:11.523122', '2021-03-01 00:10:20.265265',\n",
       "               ...\n",
       "               '2023-02-28 23:43:05.079569', '2023-02-28 23:45:54.817107',\n",
       "               '2023-02-28 23:45:54.822218', '2023-02-28 23:47:05.145663',\n",
       "               '2023-02-28 23:48:53.349647', '2023-02-28 23:49:03.148402',\n",
       "               '2023-02-28 23:51:29.318531', '2023-02-28 23:53:18.929676',\n",
       "               '2023-02-28 23:58:00.107815', '2023-02-28 23:58:30.792755'],\n",
       "              dtype='datetime64[ns]', name='Timestamps', length=687534, freq=None)"
      ]
     },
     "execution_count": 25,
     "metadata": {},
     "output_type": "execute_result"
    }
   ],
   "source": [
    "df_processed.index"
   ]
  },
  {
   "cell_type": "code",
   "execution_count": null,
   "metadata": {},
   "outputs": [],
   "source": []
  }
 ],
 "metadata": {
  "kernelspec": {
   "display_name": "venv",
   "language": "python",
   "name": "python3"
  },
  "language_info": {
   "codemirror_mode": {
    "name": "ipython",
    "version": 3
   },
   "file_extension": ".py",
   "mimetype": "text/x-python",
   "name": "python",
   "nbconvert_exporter": "python",
   "pygments_lexer": "ipython3",
   "version": "3.12.3"
  }
 },
 "nbformat": 4,
 "nbformat_minor": 2
}
