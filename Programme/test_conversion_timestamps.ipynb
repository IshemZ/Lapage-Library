{
 "cells": [
  {
   "cell_type": "code",
   "execution_count": 1,
   "metadata": {},
   "outputs": [],
   "source": [
    "import biblio_modules\n",
    "\n",
    "from datetime import datetime\n",
    "import pyarrow as py\n",
    "import pandas as pd\n",
    "import numpy as np\n",
    "import time\n",
    "import pytz"
   ]
  },
  {
   "cell_type": "code",
   "execution_count": null,
   "metadata": {},
   "outputs": [],
   "source": [
    "transactions_processing = pd.read_csv(\"../Source/Transactions.csv\", sep=\";\")"
   ]
  },
  {
   "cell_type": "code",
   "execution_count": null,
   "metadata": {},
   "outputs": [],
   "source": [
    "\n",
    "date_time_format = \"2021-03-01 24:01:07.843138\"\n",
    "\n",
    "date_time_obj = datetime.strptime(date_time_format, \"%Y-%m-%d %H:%M:%S.%f\")\n",
    "\n",
    "unix_timestamp = int(date_time_obj.timestamp())\n",
    "\n",
    "unix_timestamp\n"
   ]
  },
  {
   "cell_type": "code",
   "execution_count": null,
   "metadata": {},
   "outputs": [],
   "source": [
    "date_h_ete_2021 = transactions_processing.loc[transactions_processing['date'].str.contains('2021-03-28')]\n",
    "date_h_ete_2021\n",
    "#L'heure à avancé d'une heure, passant de 2h à 3h, ce qui à décalé le temps en 25h (absence de la 2ème heure)\n",
    "date_h_hiver_2022 = transactions_processing.loc[transactions_processing['date'].str.contains('2021-10-31')]\n",
    "date_h_hiver_2022\n",
    "date_h_ete_2022 = transactions_processing.loc[transactions_processing['date'].str.contains('2022-03-27')]\n",
    "date_h_ete_2022\n",
    "date_h_hiver_2023 = transactions_processing.loc[transactions_processing['date'].str.contains('2022-03-27')]\n",
    "date_h_hiver_2023"
   ]
  }
 ],
 "metadata": {
  "kernelspec": {
   "display_name": "venv6",
   "language": "python",
   "name": "python3"
  },
  "language_info": {
   "codemirror_mode": {
    "name": "ipython",
    "version": 3
   },
   "file_extension": ".py",
   "mimetype": "text/x-python",
   "name": "python",
   "nbconvert_exporter": "python",
   "pygments_lexer": "ipython3",
   "version": "3.12.3"
  }
 },
 "nbformat": 4,
 "nbformat_minor": 2
}
