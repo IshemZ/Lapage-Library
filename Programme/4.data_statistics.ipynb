{
 "cells": [
  {
   "cell_type": "markdown",
   "metadata": {},
   "source": [
    "<div style=\" background-color: rgb(43, 197, 37);\" >\n",
    "<h2 style=\"margin: auto; padding: 20px 0; color:#fff; text-align: center\">Data & tests statistiques\n",
    "</h2>\n",
    "</div>"
   ]
  },
  {
   "cell_type": "code",
   "execution_count": 1,
   "metadata": {},
   "outputs": [],
   "source": [
    "import pandas as pd\n",
    "import numpy as np\n",
    "from matplotlib import image\n",
    "import matplotlib.pyplot as plt \n",
    "import seaborn as sns\n",
    "\n",
    "# librairie pour analyses statistiques\n",
    "import scipy.stats as stats\n",
    "from scipy.stats import ttest_1samp\n",
    "from scipy.stats import f_oneway\n",
    "from scipy.stats import chi2\n",
    "from scipy.stats import chi2_contingency\n",
    "from scipy.stats import pearsonr\n",
    "from scipy.stats import kstest\n",
    "from scipy.stats import linregress\n",
    "from scipy.stats import spearmanr\n",
    "import math\n",
    "\n",
    "from sklearn.model_selection import StratifiedShuffleSplit\n",
    "from sklearn.linear_model import LinearRegression"
   ]
  },
  {
   "cell_type": "code",
   "execution_count": 101,
   "metadata": {},
   "outputs": [],
   "source": [
    "df_stat = pd.read_csv('../Source/Data_processed/lapage_all.csv', sep=';', index_col=['Timestamp'] , parse_dates=True)"
   ]
  },
  {
   "cell_type": "code",
   "execution_count": 102,
   "metadata": {},
   "outputs": [
    {
     "name": "stdout",
     "output_type": "stream",
     "text": [
      "<class 'pandas.core.frame.DataFrame'>\n",
      "DatetimeIndex: 687534 entries, 2021-03-01 00:01:07.843138 to 2023-02-28 23:58:30.792755\n",
      "Data columns (total 10 columns):\n",
      " #   Column      Non-Null Count   Dtype  \n",
      "---  ------      --------------   -----  \n",
      " 0   id_prod     687534 non-null  object \n",
      " 1   session_id  687534 non-null  object \n",
      " 2   client_id   687534 non-null  object \n",
      " 3   sex         687534 non-null  object \n",
      " 4   birth       687534 non-null  int64  \n",
      " 5   price       687534 non-null  float64\n",
      " 6   categ       687534 non-null  object \n",
      " 7   age         687534 non-null  int64  \n",
      " 8   age_group   687534 non-null  object \n",
      " 9   month       687534 non-null  int32  \n",
      "dtypes: float64(1), int32(1), int64(2), object(6)\n",
      "memory usage: 55.1+ MB\n"
     ]
    }
   ],
   "source": [
    "df_stat['categ'] = df_stat['categ'].astype(str)\n",
    "df_stat['month'] = df_stat.index.month #ajout d'une colonne mois pour stratifier les échantillons plus tard\n",
    "df_stat.info()"
   ]
  },
  {
   "cell_type": "code",
   "execution_count": 103,
   "metadata": {},
   "outputs": [
    {
     "data": {
      "text/html": [
       "<div>\n",
       "<style scoped>\n",
       "    .dataframe tbody tr th:only-of-type {\n",
       "        vertical-align: middle;\n",
       "    }\n",
       "\n",
       "    .dataframe tbody tr th {\n",
       "        vertical-align: top;\n",
       "    }\n",
       "\n",
       "    .dataframe thead th {\n",
       "        text-align: right;\n",
       "    }\n",
       "</style>\n",
       "<table border=\"1\" class=\"dataframe\">\n",
       "  <thead>\n",
       "    <tr style=\"text-align: right;\">\n",
       "      <th></th>\n",
       "      <th>id_prod</th>\n",
       "      <th>session_id</th>\n",
       "      <th>client_id</th>\n",
       "      <th>sex</th>\n",
       "      <th>birth</th>\n",
       "      <th>price</th>\n",
       "      <th>categ</th>\n",
       "      <th>age</th>\n",
       "      <th>age_group</th>\n",
       "      <th>month</th>\n",
       "      <th>strat_sex_categ_mois</th>\n",
       "    </tr>\n",
       "    <tr>\n",
       "      <th>Timestamp</th>\n",
       "      <th></th>\n",
       "      <th></th>\n",
       "      <th></th>\n",
       "      <th></th>\n",
       "      <th></th>\n",
       "      <th></th>\n",
       "      <th></th>\n",
       "      <th></th>\n",
       "      <th></th>\n",
       "      <th></th>\n",
       "      <th></th>\n",
       "    </tr>\n",
       "  </thead>\n",
       "  <tbody>\n",
       "    <tr>\n",
       "      <th>2021-03-01 00:01:07.843138</th>\n",
       "      <td>0_1259</td>\n",
       "      <td>s_1</td>\n",
       "      <td>c_329</td>\n",
       "      <td>f</td>\n",
       "      <td>1967</td>\n",
       "      <td>11.99</td>\n",
       "      <td>0</td>\n",
       "      <td>56</td>\n",
       "      <td>56-65</td>\n",
       "      <td>3</td>\n",
       "      <td>0_f_3</td>\n",
       "    </tr>\n",
       "    <tr>\n",
       "      <th>2021-03-01 00:02:26.047414</th>\n",
       "      <td>0_1390</td>\n",
       "      <td>s_2</td>\n",
       "      <td>c_664</td>\n",
       "      <td>m</td>\n",
       "      <td>1960</td>\n",
       "      <td>19.37</td>\n",
       "      <td>0</td>\n",
       "      <td>63</td>\n",
       "      <td>56-65</td>\n",
       "      <td>3</td>\n",
       "      <td>0_m_3</td>\n",
       "    </tr>\n",
       "    <tr>\n",
       "      <th>2021-03-01 00:02:38.311413</th>\n",
       "      <td>0_1352</td>\n",
       "      <td>s_3</td>\n",
       "      <td>c_580</td>\n",
       "      <td>m</td>\n",
       "      <td>1988</td>\n",
       "      <td>4.50</td>\n",
       "      <td>0</td>\n",
       "      <td>35</td>\n",
       "      <td>36-45</td>\n",
       "      <td>3</td>\n",
       "      <td>0_m_3</td>\n",
       "    </tr>\n",
       "    <tr>\n",
       "      <th>2021-03-01 00:04:54.559692</th>\n",
       "      <td>0_1458</td>\n",
       "      <td>s_4</td>\n",
       "      <td>c_7912</td>\n",
       "      <td>f</td>\n",
       "      <td>1989</td>\n",
       "      <td>6.55</td>\n",
       "      <td>0</td>\n",
       "      <td>34</td>\n",
       "      <td>26-35</td>\n",
       "      <td>3</td>\n",
       "      <td>0_f_3</td>\n",
       "    </tr>\n",
       "    <tr>\n",
       "      <th>2021-03-01 00:05:18.801198</th>\n",
       "      <td>0_1358</td>\n",
       "      <td>s_5</td>\n",
       "      <td>c_2033</td>\n",
       "      <td>f</td>\n",
       "      <td>1956</td>\n",
       "      <td>16.49</td>\n",
       "      <td>0</td>\n",
       "      <td>67</td>\n",
       "      <td>66+</td>\n",
       "      <td>3</td>\n",
       "      <td>0_f_3</td>\n",
       "    </tr>\n",
       "    <tr>\n",
       "      <th>...</th>\n",
       "      <td>...</td>\n",
       "      <td>...</td>\n",
       "      <td>...</td>\n",
       "      <td>...</td>\n",
       "      <td>...</td>\n",
       "      <td>...</td>\n",
       "      <td>...</td>\n",
       "      <td>...</td>\n",
       "      <td>...</td>\n",
       "      <td>...</td>\n",
       "      <td>...</td>\n",
       "    </tr>\n",
       "    <tr>\n",
       "      <th>2023-02-28 23:49:03.148402</th>\n",
       "      <td>1_508</td>\n",
       "      <td>s_348444</td>\n",
       "      <td>c_3573</td>\n",
       "      <td>f</td>\n",
       "      <td>1996</td>\n",
       "      <td>21.92</td>\n",
       "      <td>1</td>\n",
       "      <td>27</td>\n",
       "      <td>26-35</td>\n",
       "      <td>2</td>\n",
       "      <td>1_f_2</td>\n",
       "    </tr>\n",
       "    <tr>\n",
       "      <th>2023-02-28 23:51:29.318531</th>\n",
       "      <td>2_37</td>\n",
       "      <td>s_348445</td>\n",
       "      <td>c_50</td>\n",
       "      <td>f</td>\n",
       "      <td>1994</td>\n",
       "      <td>48.99</td>\n",
       "      <td>2</td>\n",
       "      <td>29</td>\n",
       "      <td>26-35</td>\n",
       "      <td>2</td>\n",
       "      <td>2_f_2</td>\n",
       "    </tr>\n",
       "    <tr>\n",
       "      <th>2023-02-28 23:53:18.929676</th>\n",
       "      <td>1_695</td>\n",
       "      <td>s_348446</td>\n",
       "      <td>c_488</td>\n",
       "      <td>f</td>\n",
       "      <td>1985</td>\n",
       "      <td>26.99</td>\n",
       "      <td>1</td>\n",
       "      <td>38</td>\n",
       "      <td>36-45</td>\n",
       "      <td>2</td>\n",
       "      <td>1_f_2</td>\n",
       "    </tr>\n",
       "    <tr>\n",
       "      <th>2023-02-28 23:58:00.107815</th>\n",
       "      <td>0_1547</td>\n",
       "      <td>s_348447</td>\n",
       "      <td>c_4848</td>\n",
       "      <td>m</td>\n",
       "      <td>1953</td>\n",
       "      <td>8.99</td>\n",
       "      <td>0</td>\n",
       "      <td>70</td>\n",
       "      <td>66+</td>\n",
       "      <td>2</td>\n",
       "      <td>0_m_2</td>\n",
       "    </tr>\n",
       "    <tr>\n",
       "      <th>2023-02-28 23:58:30.792755</th>\n",
       "      <td>0_1398</td>\n",
       "      <td>s_348435</td>\n",
       "      <td>c_3575</td>\n",
       "      <td>f</td>\n",
       "      <td>1981</td>\n",
       "      <td>4.52</td>\n",
       "      <td>0</td>\n",
       "      <td>42</td>\n",
       "      <td>36-45</td>\n",
       "      <td>2</td>\n",
       "      <td>0_f_2</td>\n",
       "    </tr>\n",
       "  </tbody>\n",
       "</table>\n",
       "<p>687534 rows × 11 columns</p>\n",
       "</div>"
      ],
      "text/plain": [
       "                           id_prod session_id client_id sex  birth  price  \\\n",
       "Timestamp                                                                   \n",
       "2021-03-01 00:01:07.843138  0_1259        s_1     c_329   f   1967  11.99   \n",
       "2021-03-01 00:02:26.047414  0_1390        s_2     c_664   m   1960  19.37   \n",
       "2021-03-01 00:02:38.311413  0_1352        s_3     c_580   m   1988   4.50   \n",
       "2021-03-01 00:04:54.559692  0_1458        s_4    c_7912   f   1989   6.55   \n",
       "2021-03-01 00:05:18.801198  0_1358        s_5    c_2033   f   1956  16.49   \n",
       "...                            ...        ...       ...  ..    ...    ...   \n",
       "2023-02-28 23:49:03.148402   1_508   s_348444    c_3573   f   1996  21.92   \n",
       "2023-02-28 23:51:29.318531    2_37   s_348445      c_50   f   1994  48.99   \n",
       "2023-02-28 23:53:18.929676   1_695   s_348446     c_488   f   1985  26.99   \n",
       "2023-02-28 23:58:00.107815  0_1547   s_348447    c_4848   m   1953   8.99   \n",
       "2023-02-28 23:58:30.792755  0_1398   s_348435    c_3575   f   1981   4.52   \n",
       "\n",
       "                           categ  age age_group  month strat_sex_categ_mois  \n",
       "Timestamp                                                                    \n",
       "2021-03-01 00:01:07.843138     0   56     56-65      3                0_f_3  \n",
       "2021-03-01 00:02:26.047414     0   63     56-65      3                0_m_3  \n",
       "2021-03-01 00:02:38.311413     0   35     36-45      3                0_m_3  \n",
       "2021-03-01 00:04:54.559692     0   34     26-35      3                0_f_3  \n",
       "2021-03-01 00:05:18.801198     0   67       66+      3                0_f_3  \n",
       "...                          ...  ...       ...    ...                  ...  \n",
       "2023-02-28 23:49:03.148402     1   27     26-35      2                1_f_2  \n",
       "2023-02-28 23:51:29.318531     2   29     26-35      2                2_f_2  \n",
       "2023-02-28 23:53:18.929676     1   38     36-45      2                1_f_2  \n",
       "2023-02-28 23:58:00.107815     0   70       66+      2                0_m_2  \n",
       "2023-02-28 23:58:30.792755     0   42     36-45      2                0_f_2  \n",
       "\n",
       "[687534 rows x 11 columns]"
      ]
     },
     "execution_count": 103,
     "metadata": {},
     "output_type": "execute_result"
    }
   ],
   "source": [
    "# Création de la colonne combinée 'strata'\n",
    "df_stat['strat_sex_categ_mois'] = df_stat['categ'] + \"_\" + df_stat['sex'] + \"_\" + df_stat['month'].astype(str)\n",
    "df_stat"
   ]
  },
  {
   "cell_type": "markdown",
   "metadata": {},
   "source": [
    "#### Mes données sont-elles numériques (quantitatives) ou catégoriques (qualitatives) ?\n",
    "- J'ai 2 variables quantitative et 5 variables catégoriques\n",
    "#### Ecrire toutes les questions que je me pose"
   ]
  },
  {
   "cell_type": "markdown",
   "metadata": {},
   "source": [
    "#### Quel est le nombre de groupes ou de variables que je compare ?\n",
    "\n",
    "#### Quel est l'objectif de mon étude ? Que cherche-je à déterminer ou à comparer ?"
   ]
  },
  {
   "cell_type": "markdown",
   "metadata": {},
   "source": [
    "<div style=\" background-color: rgb(343, 197, 37);\" >\n",
    "<h2 style=\"margin: auto; padding: 20px 0; color:#fff; text-align: center\"> Partie 1 - Test de normalité des données\n",
    "</h2>\n",
    "</div>"
   ]
  },
  {
   "cell_type": "markdown",
   "metadata": {},
   "source": [
    "----\n",
    "## Test de normalité sur une variable : prix\n",
    "---"
   ]
  },
  {
   "cell_type": "markdown",
   "metadata": {},
   "source": [
    "---\n",
    "### 1.1 Choisir la variable à tester (variable quanti) -> Prix\n",
    "---"
   ]
  },
  {
   "cell_type": "code",
   "execution_count": 104,
   "metadata": {},
   "outputs": [
    {
     "data": {
      "text/plain": [
       "Timestamp\n",
       "2021-03-01 00:01:07.843138    11.99\n",
       "2021-03-01 00:02:26.047414    19.37\n",
       "Name: price, dtype: float64"
      ]
     },
     "execution_count": 104,
     "metadata": {},
     "output_type": "execute_result"
    }
   ],
   "source": [
    "df_stat['price'].head(2)"
   ]
  },
  {
   "cell_type": "markdown",
   "metadata": {},
   "source": [
    "#### H0 : la variable prix suit une loi normal p > 0,05\n",
    "#### H1 : la variable prix ne suit pas une loi normal p < 0,05\n"
   ]
  },
  {
   "cell_type": "markdown",
   "metadata": {},
   "source": [
    "---\n",
    "### 1.2 - Décrire les paramère de la variable (moyenne , écart-type (std) , variance (var) ) théorique\n",
    "---"
   ]
  },
  {
   "cell_type": "code",
   "execution_count": 105,
   "metadata": {},
   "outputs": [
    {
     "name": "stdout",
     "output_type": "stream",
     "text": [
      "la moyenne (x barre) théorique est 17.49\n",
      "l'écart type ou stand.dev. (sigma) théorique est 18.24\n",
      "la variance (sigma carré) théorique est de 332.64\n"
     ]
    }
   ],
   "source": [
    "print(f\"la moyenne (x barre) théorique est {round(df_stat['price'].mean(), 2)}\")\n",
    "print(f\"l'écart type ou stand.dev. (sigma) théorique est {round(df_stat['price'].std(), 2)}\")\n",
    "print(f\"la variance (sigma carré) théorique est de {round(df_stat['price'].var(), 2)}\")"
   ]
  },
  {
   "cell_type": "markdown",
   "metadata": {},
   "source": [
    "---\n",
    "### 1.3 - Détérminer un échantillon (mathématiquement)\n",
    "---"
   ]
  },
  {
   "cell_type": "code",
   "execution_count": 106,
   "metadata": {},
   "outputs": [
    {
     "data": {
      "text/plain": [
       "\"Taille d'échantillon nécessaire :\""
      ]
     },
     "metadata": {},
     "output_type": "display_data"
    },
    {
     "data": {
      "text/plain": [
       "1279"
      ]
     },
     "metadata": {},
     "output_type": "display_data"
    }
   ],
   "source": [
    "## Fixation de la taille de l'échantillon       \n",
    "\n",
    "# Paramètres\n",
    "marge_erreur = 1\n",
    "niveau_confiance = 0.95\n",
    "ecart_type_estime = 18.24  # Écart-type estimé des prix dans votre dataset\n",
    "\n",
    "# Z-score pour un niveau de confiance de 95%\n",
    "z_score = 1.96  # Pour un niveau de confiance de 95%\n",
    "\n",
    "# Taille de l'échantillon\n",
    "taille_echantillon_prix = (z_score * ecart_type_estime / marge_erreur) ** 2\n",
    "taille_echantillon_prix = math.ceil(taille_echantillon_prix)  # Arrondir à l'entier supérieur\n",
    "\n",
    "display(\"Taille d'échantillon nécessaire :\", taille_echantillon_prix)\n"
   ]
  },
  {
   "cell_type": "markdown",
   "metadata": {},
   "source": [
    "---\n",
    "### 1.4 - Stratifié l'échantillon pour fiabiliser la représentativité des données\n",
    "---"
   ]
  },
  {
   "cell_type": "markdown",
   "metadata": {},
   "source": [
    "- le sexe (639 hommes et 639 femmes)\n",
    "- la catégorie de produit\n",
    "- le mois de l'année (saisonnalité)"
   ]
  },
  {
   "cell_type": "code",
   "execution_count": 107,
   "metadata": {},
   "outputs": [
    {
     "name": "stdout",
     "output_type": "stream",
     "text": [
      "                           id_prod session_id client_id sex  birth  price  \\\n",
      "Timestamp                                                                   \n",
      "2022-03-14 09:45:18.837501  0_1718   s_178941    c_5283   m   1969   9.67   \n",
      "\n",
      "                           categ  age age_group  month strat_sex_categ_mois  \n",
      "Timestamp                                                                    \n",
      "2022-03-14 09:45:18.837501     0   54     46-55      3                0_m_3  \n"
     ]
    },
    {
     "data": {
      "text/plain": [
       "'-----------------------------'"
      ]
     },
     "metadata": {},
     "output_type": "display_data"
    },
    {
     "name": "stdout",
     "output_type": "stream",
     "text": [
      "strat_sex_categ_mois\n",
      "0_m_9     38\n",
      "0_f_9     37\n",
      "0_m_5     35\n",
      "0_m_12    34\n",
      "0_f_3     34\n",
      "          ..\n",
      "2_m_9      2\n",
      "2_f_3      2\n",
      "2_f_10     2\n",
      "2_f_12     2\n",
      "2_f_9      2\n",
      "Name: count, Length: 72, dtype: int64\n"
     ]
    }
   ],
   "source": [
    "taille_echantillon_prix = 1279 #je fixe la taille de l'échantillon à 1300\n",
    "\n",
    "sss = StratifiedShuffleSplit(n_splits=40, test_size=taille_echantillon_prix, random_state=9000) #j'initialise l'objet StratifiedShuffleSplit pour générer un échantillon stratifié de 1300 individus\n",
    "\n",
    "for train_index, test_index in sss.split(df_stat, df_stat['strat_sex_categ_mois']): #je génère l'échantillon stratifié selon la variable sex\n",
    "    echantillon_stratifie = df_stat.iloc[test_index] #je récupère l'échantillon stratifié\n",
    "    \n",
    "print(echantillon_stratifie.head(1)) #j'affiche la premières lignes de l'échantillon stratifié\n",
    "display(\"-----------------------------\")\n",
    "print(echantillon_stratifie['strat_sex_categ_mois'].value_counts()) #je vérifie"
   ]
  },
  {
   "cell_type": "markdown",
   "metadata": {},
   "source": [
    "---\n",
    "### 1.5 - Appliquer le test de Kosmogorov-Smirnov\n",
    "---"
   ]
  },
  {
   "cell_type": "code",
   "execution_count": 108,
   "metadata": {},
   "outputs": [
    {
     "data": {
      "text/plain": [
       "17.73"
      ]
     },
     "metadata": {},
     "output_type": "display_data"
    },
    {
     "data": {
      "text/plain": [
       "19.66"
      ]
     },
     "metadata": {},
     "output_type": "display_data"
    },
    {
     "data": {
      "text/plain": [
       "'-----------------------------'"
      ]
     },
     "metadata": {},
     "output_type": "display_data"
    },
    {
     "data": {
      "text/plain": [
       "'-----------------------------'"
      ]
     },
     "metadata": {},
     "output_type": "display_data"
    },
    {
     "name": "stdout",
     "output_type": "stream",
     "text": [
      "Statistique de test KS: 0.33169 un resultat proche de 0 indique que la distribution des prix est normale\n",
      "Valeur p: 0.00 : un resultat supérieur à 0.05 indique que la distribution des prix est normale\n"
     ]
    },
    {
     "data": {
      "text/plain": [
       "'-----------------------------'"
      ]
     },
     "metadata": {},
     "output_type": "display_data"
    },
    {
     "name": "stdout",
     "output_type": "stream",
     "text": [
      "La distribution des prix n'est pas normale -> l'hypothèse nulle H0 est rejetée\n"
     ]
    }
   ],
   "source": [
    "moyenne_empirique_prix =echantillon_stratifie['price'].mean() #je calcule la moyenne des prix dans l'échantillon stratifié\n",
    "variante_empirique_prix = echantillon_stratifie['price'].std() #je calcule l'écart-type des prix dans l'échantillon stratifié\n",
    "display(round(moyenne_empirique_prix, 2))\n",
    "display(round(variante_empirique_prix, 2))\n",
    "display(\"-----------------------------\")\n",
    "\n",
    "stat, p_value = kstest(echantillon_stratifie['price'], 'norm', args=(moyenne_empirique_prix, np.sqrt(variante_empirique_prix))) #je teste la normalité de la distribution des prix dans l'échantillon stratifié\n",
    "\n",
    "display(\"-----------------------------\")\n",
    "\n",
    "print(\"Statistique de test KS:\", round(stat, 5), 'un resultat proche de 0 indique que la distribution des prix est normale')\n",
    "print(\"Valeur p:\", np.format_float_positional(p_value, precision=2), ': un resultat supérieur à 0.05 indique que la distribution des prix est normale')\n",
    "\n",
    "display(\"-----------------------------\")\n",
    "\n",
    "alpha = 0.05 #je fixe la région critique à 5%\n",
    "if p_value > alpha:\n",
    "    print(\"La distribution des prix est normale -> l'hypothèse nulle H0 n'est pas rejetée\")\n",
    "else:\n",
    "    print(\"La distribution des prix n'est pas normale -> l'hypothèse nulle H0 est rejetée\")\n",
    "    "
   ]
  },
  {
   "cell_type": "markdown",
   "metadata": {},
   "source": [
    "<div style=\" background-color: rgb(343, 197, 37);\" >\n",
    "<h2 style=\"padding: 10px; color: white; text-align: center\" > Representation graphique\n",
    "</h2>\n",
    "</div>"
   ]
  },
  {
   "cell_type": "code",
   "execution_count": 109,
   "metadata": {},
   "outputs": [
    {
     "data": {
      "image/png": "[encoded data removed]",
      "text/plain": [
       "<Figure size 640x480 with 1 Axes>"
      ]
     },
     "metadata": {},
     "output_type": "display_data"
    }
   ],
   "source": [
    "df_stat['price'].hist(bins=50)\n",
    "\n",
    "# Generate data for the normal distribution\n",
    "mu = df_stat['price'].mean()\n",
    "sigma = df_stat['price'].std()\n",
    "x = np.linspace(mu - 3*sigma, mu + 3*sigma, 100)\n",
    "y = stats.norm.pdf(x, mu, sigma)\n",
    "\n",
    "# Plot the normal distribution curve\n",
    "plt.plot(x, y)\n",
    "plt.axvline(x=np.percentile(df_stat['price'], 25), color='r', linestyle='--')\n",
    "plt.axvline(x=np.percentile(df_stat['price'], 75), color='r', linestyle='--')\n",
    "plt.xlabel('Price')\n",
    "plt.ylabel('Probability Density')\n",
    "plt.show()"
   ]
  },
  {
   "cell_type": "markdown",
   "metadata": {},
   "source": [
    "---\n",
    "### On retiens l'hypothèse alternative H1 : la variable prix ne suit pas une loi normal p > 0.05\n",
    "---"
   ]
  },
  {
   "cell_type": "markdown",
   "metadata": {},
   "source": [
    "<div style=\"background-color: rgb(343, 197, 37);\" >\n",
    "</div>"
   ]
  },
  {
   "cell_type": "markdown",
   "metadata": {},
   "source": [
    "----\n",
    "## Test de normalité sur une variable : année de naissance\n",
    "---"
   ]
  },
  {
   "cell_type": "markdown",
   "metadata": {},
   "source": [
    "#### H0 : la variable naissance suit une loi normal p > 0,05\n",
    "#### H1 : la variable naissance ne suit pas une loi normal p < 0,05\n"
   ]
  },
  {
   "cell_type": "code",
   "execution_count": 110,
   "metadata": {},
   "outputs": [
    {
     "data": {
      "text/plain": [
       "Timestamp\n",
       "2021-03-01 00:01:07.843138    1967\n",
       "2021-03-01 00:02:26.047414    1960\n",
       "Name: birth, dtype: int64"
      ]
     },
     "execution_count": 110,
     "metadata": {},
     "output_type": "execute_result"
    }
   ],
   "source": [
    "# choix de la variable à étudier : année de naissance\n",
    "df_stat['birth'].head(2)   "
   ]
  },
  {
   "cell_type": "code",
   "execution_count": 111,
   "metadata": {},
   "outputs": [
    {
     "name": "stdout",
     "output_type": "stream",
     "text": [
      "la moyenne (x barre) théorique est 1977.82\n",
      "l'écart type ou stand.dev. (sigma) théorique est 13.61\n",
      "la variance (sigma carré) théorique est de 185.18\n"
     ]
    }
   ],
   "source": [
    "print(f\"la moyenne (x barre) théorique est {round(df_stat['birth'].mean(), 2)}\")\n",
    "print(f\"l'écart type ou stand.dev. (sigma) théorique est {round(df_stat['birth'].std(), 2)}\")\n",
    "print(f\"la variance (sigma carré) théorique est de {round(df_stat['birth'].var(), 2)}\")"
   ]
  },
  {
   "cell_type": "code",
   "execution_count": 112,
   "metadata": {},
   "outputs": [
    {
     "data": {
      "text/plain": [
       "\"Taille d'échantillon nécessaire :\""
      ]
     },
     "metadata": {},
     "output_type": "display_data"
    },
    {
     "data": {
      "text/plain": [
       "712"
      ]
     },
     "metadata": {},
     "output_type": "display_data"
    }
   ],
   "source": [
    "## Fixation de la taille de l'échantillon       \n",
    "# Paramètres\n",
    "marge_erreur = 1\n",
    "niveau_confiance = 0.95\n",
    "ecart_type_estime = 13.61  # Écart-type estimé des prix dans votre dataset\n",
    "\n",
    "# Z-score pour un niveau de confiance de 95%\n",
    "z_score = 1.96  # Pour un niveau de confiance de 95%\n",
    "\n",
    "# Taille de l'échantillon\n",
    "taille_echantillon_naissance = (z_score * ecart_type_estime / marge_erreur) ** 2\n",
    "taille_echantillon_naissance = math.ceil(taille_echantillon_naissance)  # Arrondir à l'entier supérieur\n",
    "\n",
    "display(\"Taille d'échantillon nécessaire :\", taille_echantillon_naissance)"
   ]
  },
  {
   "cell_type": "code",
   "execution_count": 113,
   "metadata": {},
   "outputs": [
    {
     "name": "stdout",
     "output_type": "stream",
     "text": [
      "                           id_prod session_id client_id sex  birth  price  \\\n",
      "Timestamp                                                                   \n",
      "2022-06-22 19:56:21.825668  0_1449   s_227747    c_1609   m   1980   4.99   \n",
      "\n",
      "                           categ  age age_group  month strat_sex_categ_mois  \n",
      "Timestamp                                                                    \n",
      "2022-06-22 19:56:21.825668     0   43     36-45      6                0_m_6  \n"
     ]
    },
    {
     "data": {
      "text/plain": [
       "'-----------------------------'"
      ]
     },
     "metadata": {},
     "output_type": "display_data"
    },
    {
     "name": "stdout",
     "output_type": "stream",
     "text": [
      "strat_sex_categ_mois\n",
      "0_m_9     22\n",
      "0_f_9     22\n",
      "0_m_5     20\n",
      "0_m_4     20\n",
      "0_m_12    20\n",
      "          ..\n",
      "2_f_11     1\n",
      "2_m_9      1\n",
      "2_m_12     1\n",
      "2_f_9      1\n",
      "2_f_10     1\n",
      "Name: count, Length: 72, dtype: int64\n"
     ]
    }
   ],
   "source": [
    "taille_echantillon_naissance = 750 #je fixe la taille de l'échantillon à 750\n",
    "\n",
    "sss2 = StratifiedShuffleSplit(n_splits=40, test_size=taille_echantillon_naissance, random_state=9000) #j'initialise l'objet StratifiedShuffleSplit pour générer un échantillon stratifié de 1300 individus\n",
    "\n",
    "for train_index, test_index in sss2.split(df_stat, df_stat['strat_sex_categ_mois']): #je génère l'échantillon stratifié selon la variable sex\n",
    "    echantillon_stratifie_naissance = df_stat.iloc[test_index] #je récupère l'échantillon stratifié\n",
    "    \n",
    "print(echantillon_stratifie_naissance.head(1)) #j'affiche la premières lignes de l'échantillon stratifié\n",
    "display(\"-----------------------------\")\n",
    "print(echantillon_stratifie_naissance['strat_sex_categ_mois'].value_counts()) #je vérifie"
   ]
  },
  {
   "cell_type": "code",
   "execution_count": 114,
   "metadata": {},
   "outputs": [
    {
     "data": {
      "text/plain": [
       "1978.89"
      ]
     },
     "metadata": {},
     "output_type": "display_data"
    },
    {
     "data": {
      "text/plain": [
       "185.71"
      ]
     },
     "metadata": {},
     "output_type": "display_data"
    }
   ],
   "source": [
    "moyenne_empirique_naissance = echantillon_stratifie_naissance['birth'].mean() #je calcule la moyenne des années de naissance dans l'échantillon stratifié\n",
    "display(round(moyenne_empirique_naissance, 2))\n",
    "variante_empirique_naissance = echantillon_stratifie_naissance['birth'].var() #je calcule la variance des années de naissance dans l'échantillon stratifié\n",
    "display(round(variante_empirique_naissance, 2))"
   ]
  },
  {
   "cell_type": "code",
   "execution_count": 115,
   "metadata": {},
   "outputs": [
    {
     "data": {
      "text/plain": [
       "'Le resultat du test de normalité est :'"
      ]
     },
     "metadata": {},
     "output_type": "display_data"
    },
    {
     "data": {
      "text/plain": [
       "{0.09}"
      ]
     },
     "metadata": {},
     "output_type": "display_data"
    },
    {
     "data": {
      "text/plain": [
       "'un resultat proche de 0 indique que la distribution des années de naissance est normale'"
      ]
     },
     "metadata": {},
     "output_type": "display_data"
    },
    {
     "data": {
      "text/plain": [
       "'Le resultat du test de normalité est :'"
      ]
     },
     "metadata": {},
     "output_type": "display_data"
    },
    {
     "data": {
      "text/plain": [
       "{0.0}"
      ]
     },
     "metadata": {},
     "output_type": "display_data"
    },
    {
     "data": {
      "text/plain": [
       "': un resultat supérieur à 0.05 indique que la distribution des années de naissance est normale'"
      ]
     },
     "metadata": {},
     "output_type": "display_data"
    },
    {
     "data": {
      "text/plain": [
       "'-----------------------------'"
      ]
     },
     "metadata": {},
     "output_type": "display_data"
    },
    {
     "name": "stdout",
     "output_type": "stream",
     "text": [
      "La distribution des années de naissance n'est pas normale -> l'hypothèse nulle H0 est rejetée\n"
     ]
    }
   ],
   "source": [
    "stat, p_value = kstest(echantillon_stratifie_naissance['birth'], 'norm', args=(moyenne_empirique_naissance, np.sqrt(variante_empirique_naissance))) #je teste la normalité de la distribution des années de naissance dans l'échantillon stratifié\n",
    "\n",
    "display(f\"Le resultat du test de normalité est :\", {round(stat, 2)}, 'un resultat proche de 0 indique que la distribution des années de naissance est normale')\n",
    "display(f\"Le resultat du test de normalité est :\", {round(p_value, 2)}, ': un resultat supérieur à 0.05 indique que la distribution des années de naissance est normale')\n",
    "\n",
    "display(\"-----------------------------\")\n",
    "\n",
    "alpha = 0.05 #je fixe la région critique à 5%\n",
    "\n",
    "if p_value > alpha:\n",
    "    print(\"La distribution des années de naissance est normale -> l'hypothèse nulle H0 n'est pas rejetée\")\n",
    "else:\n",
    "    print(\"La distribution des années de naissance n'est pas normale -> l'hypothèse nulle H0 est rejetée\")"
   ]
  },
  {
   "cell_type": "markdown",
   "metadata": {},
   "source": [
    "\n",
    "<div style=\" background-color: rgb(343, 197, 37);\" >\n",
    "<h2 style=\"padding: 10px; color: white; text-align: center\" > Representation graphique\n",
    "</h2>\n",
    "</div>"
   ]
  },
  {
   "cell_type": "code",
   "execution_count": 116,
   "metadata": {},
   "outputs": [
    {
     "data": {
      "image/png": "[encoded data removed]",
      "text/plain": [
       "<Figure size 640x480 with 1 Axes>"
      ]
     },
     "metadata": {},
     "output_type": "display_data"
    }
   ],
   "source": [
    "df_stat['birth'].hist(bins=50)\n",
    "\n",
    "mu = df_stat['birth'].mean()\n",
    "sigma = df_stat['birth'].std()\n",
    "x = np.linspace(mu - 3*sigma, mu + 3*sigma, 100)\n",
    "y = stats.norm.pdf(x, mu, sigma)\n",
    "\n",
    "plt.plot(x, y)\n",
    "plt.axvline(x=np.percentile(df_stat['birth'], 25), color='r', linestyle='--')\n",
    "plt.axvline(x=np.percentile(df_stat['birth'], 75), color='r', linestyle='--')\n",
    "plt.xlabel('Birth Year')\n",
    "plt.ylabel('Probability Density')\n",
    "plt.show()"
   ]
  },
  {
   "cell_type": "markdown",
   "metadata": {},
   "source": [
    "---\n",
    "### On retiens l'hypothèse alternative H1 : la variable naissance ne suit pas une loi normal p > 0.05\n",
    "---"
   ]
  },
  {
   "cell_type": "markdown",
   "metadata": {},
   "source": [
    "<div style=\"background-color: rgb(343, 197, 37);\" >\n",
    "</div>"
   ]
  },
  {
   "cell_type": "code",
   "execution_count": 117,
   "metadata": {},
   "outputs": [
    {
     "data": {
      "text/html": [
       "<div>\n",
       "<style scoped>\n",
       "    .dataframe tbody tr th:only-of-type {\n",
       "        vertical-align: middle;\n",
       "    }\n",
       "\n",
       "    .dataframe tbody tr th {\n",
       "        vertical-align: top;\n",
       "    }\n",
       "\n",
       "    .dataframe thead th {\n",
       "        text-align: right;\n",
       "    }\n",
       "</style>\n",
       "<table border=\"1\" class=\"dataframe\">\n",
       "  <thead>\n",
       "    <tr style=\"text-align: right;\">\n",
       "      <th></th>\n",
       "      <th>id_prod</th>\n",
       "      <th>session_id</th>\n",
       "      <th>client_id</th>\n",
       "      <th>sex</th>\n",
       "      <th>birth</th>\n",
       "      <th>price</th>\n",
       "      <th>categ</th>\n",
       "      <th>age</th>\n",
       "      <th>age_group</th>\n",
       "      <th>month</th>\n",
       "      <th>strat_sex_categ_mois</th>\n",
       "    </tr>\n",
       "    <tr>\n",
       "      <th>Timestamp</th>\n",
       "      <th></th>\n",
       "      <th></th>\n",
       "      <th></th>\n",
       "      <th></th>\n",
       "      <th></th>\n",
       "      <th></th>\n",
       "      <th></th>\n",
       "      <th></th>\n",
       "      <th></th>\n",
       "      <th></th>\n",
       "      <th></th>\n",
       "    </tr>\n",
       "  </thead>\n",
       "  <tbody>\n",
       "    <tr>\n",
       "      <th>2021-03-01 00:01:07.843138</th>\n",
       "      <td>0_1259</td>\n",
       "      <td>s_1</td>\n",
       "      <td>c_329</td>\n",
       "      <td>f</td>\n",
       "      <td>1967</td>\n",
       "      <td>11.99</td>\n",
       "      <td>0</td>\n",
       "      <td>56</td>\n",
       "      <td>56-65</td>\n",
       "      <td>3</td>\n",
       "      <td>0_f_3</td>\n",
       "    </tr>\n",
       "    <tr>\n",
       "      <th>2021-03-01 00:02:26.047414</th>\n",
       "      <td>0_1390</td>\n",
       "      <td>s_2</td>\n",
       "      <td>c_664</td>\n",
       "      <td>m</td>\n",
       "      <td>1960</td>\n",
       "      <td>19.37</td>\n",
       "      <td>0</td>\n",
       "      <td>63</td>\n",
       "      <td>56-65</td>\n",
       "      <td>3</td>\n",
       "      <td>0_m_3</td>\n",
       "    </tr>\n",
       "    <tr>\n",
       "      <th>2021-03-01 00:02:38.311413</th>\n",
       "      <td>0_1352</td>\n",
       "      <td>s_3</td>\n",
       "      <td>c_580</td>\n",
       "      <td>m</td>\n",
       "      <td>1988</td>\n",
       "      <td>4.50</td>\n",
       "      <td>0</td>\n",
       "      <td>35</td>\n",
       "      <td>36-45</td>\n",
       "      <td>3</td>\n",
       "      <td>0_m_3</td>\n",
       "    </tr>\n",
       "    <tr>\n",
       "      <th>2021-03-01 00:04:54.559692</th>\n",
       "      <td>0_1458</td>\n",
       "      <td>s_4</td>\n",
       "      <td>c_7912</td>\n",
       "      <td>f</td>\n",
       "      <td>1989</td>\n",
       "      <td>6.55</td>\n",
       "      <td>0</td>\n",
       "      <td>34</td>\n",
       "      <td>26-35</td>\n",
       "      <td>3</td>\n",
       "      <td>0_f_3</td>\n",
       "    </tr>\n",
       "    <tr>\n",
       "      <th>2021-03-01 00:05:18.801198</th>\n",
       "      <td>0_1358</td>\n",
       "      <td>s_5</td>\n",
       "      <td>c_2033</td>\n",
       "      <td>f</td>\n",
       "      <td>1956</td>\n",
       "      <td>16.49</td>\n",
       "      <td>0</td>\n",
       "      <td>67</td>\n",
       "      <td>66+</td>\n",
       "      <td>3</td>\n",
       "      <td>0_f_3</td>\n",
       "    </tr>\n",
       "    <tr>\n",
       "      <th>...</th>\n",
       "      <td>...</td>\n",
       "      <td>...</td>\n",
       "      <td>...</td>\n",
       "      <td>...</td>\n",
       "      <td>...</td>\n",
       "      <td>...</td>\n",
       "      <td>...</td>\n",
       "      <td>...</td>\n",
       "      <td>...</td>\n",
       "      <td>...</td>\n",
       "      <td>...</td>\n",
       "    </tr>\n",
       "    <tr>\n",
       "      <th>2023-02-28 23:49:03.148402</th>\n",
       "      <td>1_508</td>\n",
       "      <td>s_348444</td>\n",
       "      <td>c_3573</td>\n",
       "      <td>f</td>\n",
       "      <td>1996</td>\n",
       "      <td>21.92</td>\n",
       "      <td>1</td>\n",
       "      <td>27</td>\n",
       "      <td>26-35</td>\n",
       "      <td>2</td>\n",
       "      <td>1_f_2</td>\n",
       "    </tr>\n",
       "    <tr>\n",
       "      <th>2023-02-28 23:51:29.318531</th>\n",
       "      <td>2_37</td>\n",
       "      <td>s_348445</td>\n",
       "      <td>c_50</td>\n",
       "      <td>f</td>\n",
       "      <td>1994</td>\n",
       "      <td>48.99</td>\n",
       "      <td>2</td>\n",
       "      <td>29</td>\n",
       "      <td>26-35</td>\n",
       "      <td>2</td>\n",
       "      <td>2_f_2</td>\n",
       "    </tr>\n",
       "    <tr>\n",
       "      <th>2023-02-28 23:53:18.929676</th>\n",
       "      <td>1_695</td>\n",
       "      <td>s_348446</td>\n",
       "      <td>c_488</td>\n",
       "      <td>f</td>\n",
       "      <td>1985</td>\n",
       "      <td>26.99</td>\n",
       "      <td>1</td>\n",
       "      <td>38</td>\n",
       "      <td>36-45</td>\n",
       "      <td>2</td>\n",
       "      <td>1_f_2</td>\n",
       "    </tr>\n",
       "    <tr>\n",
       "      <th>2023-02-28 23:58:00.107815</th>\n",
       "      <td>0_1547</td>\n",
       "      <td>s_348447</td>\n",
       "      <td>c_4848</td>\n",
       "      <td>m</td>\n",
       "      <td>1953</td>\n",
       "      <td>8.99</td>\n",
       "      <td>0</td>\n",
       "      <td>70</td>\n",
       "      <td>66+</td>\n",
       "      <td>2</td>\n",
       "      <td>0_m_2</td>\n",
       "    </tr>\n",
       "    <tr>\n",
       "      <th>2023-02-28 23:58:30.792755</th>\n",
       "      <td>0_1398</td>\n",
       "      <td>s_348435</td>\n",
       "      <td>c_3575</td>\n",
       "      <td>f</td>\n",
       "      <td>1981</td>\n",
       "      <td>4.52</td>\n",
       "      <td>0</td>\n",
       "      <td>42</td>\n",
       "      <td>36-45</td>\n",
       "      <td>2</td>\n",
       "      <td>0_f_2</td>\n",
       "    </tr>\n",
       "  </tbody>\n",
       "</table>\n",
       "<p>687534 rows × 11 columns</p>\n",
       "</div>"
      ],
      "text/plain": [
       "                           id_prod session_id client_id sex  birth  price  \\\n",
       "Timestamp                                                                   \n",
       "2021-03-01 00:01:07.843138  0_1259        s_1     c_329   f   1967  11.99   \n",
       "2021-03-01 00:02:26.047414  0_1390        s_2     c_664   m   1960  19.37   \n",
       "2021-03-01 00:02:38.311413  0_1352        s_3     c_580   m   1988   4.50   \n",
       "2021-03-01 00:04:54.559692  0_1458        s_4    c_7912   f   1989   6.55   \n",
       "2021-03-01 00:05:18.801198  0_1358        s_5    c_2033   f   1956  16.49   \n",
       "...                            ...        ...       ...  ..    ...    ...   \n",
       "2023-02-28 23:49:03.148402   1_508   s_348444    c_3573   f   1996  21.92   \n",
       "2023-02-28 23:51:29.318531    2_37   s_348445      c_50   f   1994  48.99   \n",
       "2023-02-28 23:53:18.929676   1_695   s_348446     c_488   f   1985  26.99   \n",
       "2023-02-28 23:58:00.107815  0_1547   s_348447    c_4848   m   1953   8.99   \n",
       "2023-02-28 23:58:30.792755  0_1398   s_348435    c_3575   f   1981   4.52   \n",
       "\n",
       "                           categ  age age_group  month strat_sex_categ_mois  \n",
       "Timestamp                                                                    \n",
       "2021-03-01 00:01:07.843138     0   56     56-65      3                0_f_3  \n",
       "2021-03-01 00:02:26.047414     0   63     56-65      3                0_m_3  \n",
       "2021-03-01 00:02:38.311413     0   35     36-45      3                0_m_3  \n",
       "2021-03-01 00:04:54.559692     0   34     26-35      3                0_f_3  \n",
       "2021-03-01 00:05:18.801198     0   67       66+      3                0_f_3  \n",
       "...                          ...  ...       ...    ...                  ...  \n",
       "2023-02-28 23:49:03.148402     1   27     26-35      2                1_f_2  \n",
       "2023-02-28 23:51:29.318531     2   29     26-35      2                2_f_2  \n",
       "2023-02-28 23:53:18.929676     1   38     36-45      2                1_f_2  \n",
       "2023-02-28 23:58:00.107815     0   70       66+      2                0_m_2  \n",
       "2023-02-28 23:58:30.792755     0   42     36-45      2                0_f_2  \n",
       "\n",
       "[687534 rows x 11 columns]"
      ]
     },
     "execution_count": 117,
     "metadata": {},
     "output_type": "execute_result"
    }
   ],
   "source": [
    "df_stat"
   ]
  },
  {
   "cell_type": "markdown",
   "metadata": {},
   "source": [
    "---\n",
    "### test de normalité age\n",
    "---"
   ]
  },
  {
   "cell_type": "code",
   "execution_count": 118,
   "metadata": {},
   "outputs": [
    {
     "data": {
      "text/plain": [
       "Timestamp\n",
       "2021-03-01 00:01:07.843138    56\n",
       "2021-03-01 00:02:26.047414    63\n",
       "Name: age, dtype: int64"
      ]
     },
     "execution_count": 118,
     "metadata": {},
     "output_type": "execute_result"
    }
   ],
   "source": [
    "df_stat['age'].head(2)"
   ]
  },
  {
   "cell_type": "markdown",
   "metadata": {},
   "source": [
    "#### H0 : la variable naissance suit une loi normal p > 0,05\n",
    "#### H1 : la variable naissance ne suit pas une loi normal p < 0,05"
   ]
  },
  {
   "cell_type": "code",
   "execution_count": 119,
   "metadata": {},
   "outputs": [
    {
     "name": "stdout",
     "output_type": "stream",
     "text": [
      "la moyenne (x barre) théorique est 45.18\n",
      "l'écart type ou stand.dev. (sigma) théorique est 13.61\n",
      "la variance (sigma carré) théorique est de 185.18\n"
     ]
    }
   ],
   "source": [
    "print(f\"la moyenne (x barre) théorique est {round(df_stat['age'].mean(), 2)}\")\n",
    "print(f\"l'écart type ou stand.dev. (sigma) théorique est {round(df_stat['age'].std(), 2)}\")\n",
    "print(f\"la variance (sigma carré) théorique est de {round(df_stat['age'].var(), 2)}\")"
   ]
  },
  {
   "cell_type": "code",
   "execution_count": 120,
   "metadata": {},
   "outputs": [
    {
     "data": {
      "text/plain": [
       "\"Taille d'échantillon nécessaire :\""
      ]
     },
     "metadata": {},
     "output_type": "display_data"
    },
    {
     "data": {
      "text/plain": [
       "712"
      ]
     },
     "metadata": {},
     "output_type": "display_data"
    }
   ],
   "source": [
    "## Fixation de la taille de l'échantillon       \n",
    "# Paramètres\n",
    "marge_erreur = 1\n",
    "niveau_confiance = 0.95\n",
    "ecart_type_estime = 13.61  # Écart-type estimé des prix dans votre dataset\n",
    "\n",
    "# Z-score pour un niveau de confiance de 95%\n",
    "z_score = 1.96  # Pour un niveau de confiance de 95%\n",
    "\n",
    "# Taille de l'échantillon\n",
    "taille_echantillon_age = (z_score * ecart_type_estime / marge_erreur) ** 2\n",
    "taille_echantillon_age = math.ceil(taille_echantillon_age)  # Arrondir à l'entier supérieur\n",
    "\n",
    "display(\"Taille d'échantillon nécessaire :\", taille_echantillon_age)"
   ]
  },
  {
   "cell_type": "code",
   "execution_count": 121,
   "metadata": {},
   "outputs": [
    {
     "name": "stdout",
     "output_type": "stream",
     "text": [
      "                           id_prod session_id client_id sex  birth  price  \\\n",
      "Timestamp                                                                   \n",
      "2022-03-14 09:45:18.837501  0_1718   s_178941    c_5283   m   1969   9.67   \n",
      "\n",
      "                           categ  age age_group  month strat_sex_categ_mois  \n",
      "Timestamp                                                                    \n",
      "2022-03-14 09:45:18.837501     0   54     46-55      3                0_m_3  \n"
     ]
    },
    {
     "data": {
      "text/plain": [
       "'-----------------------------'"
      ]
     },
     "metadata": {},
     "output_type": "display_data"
    },
    {
     "name": "stdout",
     "output_type": "stream",
     "text": [
      "strat_sex_categ_mois\n",
      "0_m_9     38\n",
      "0_f_9     37\n",
      "0_m_5     35\n",
      "0_m_12    34\n",
      "0_f_3     34\n",
      "          ..\n",
      "2_m_9      2\n",
      "2_f_3      2\n",
      "2_f_10     2\n",
      "2_f_12     2\n",
      "2_f_9      2\n",
      "Name: count, Length: 72, dtype: int64\n"
     ]
    }
   ],
   "source": [
    "taille_echantillon_age = 750 #je fixe la taille de l'échantillon à 750\n",
    "\n",
    "sss2 = StratifiedShuffleSplit(n_splits=40, test_size=taille_echantillon_age, random_state=9000) #j'initialise l'objet StratifiedShuffleSplit pour générer un échantillon stratifié de 1300 individus\n",
    "\n",
    "for train_index, test_index in sss.split(df_stat, df_stat['strat_sex_categ_mois']): #je génère l'échantillon stratifié selon la variable sex\n",
    "    echantillon_stratifie_age = df_stat.iloc[test_index] #je récupère l'échantillon stratifié\n",
    "    \n",
    "print(echantillon_stratifie_age.head(1)) #j'affiche la premières lignes de l'échantillon stratifié\n",
    "display(\"-----------------------------\")\n",
    "print(echantillon_stratifie_age['strat_sex_categ_mois'].value_counts()) #je vérifie"
   ]
  },
  {
   "cell_type": "code",
   "execution_count": 122,
   "metadata": {},
   "outputs": [
    {
     "data": {
      "text/plain": [
       "44.82"
      ]
     },
     "metadata": {},
     "output_type": "display_data"
    },
    {
     "data": {
      "text/plain": [
       "183.51"
      ]
     },
     "metadata": {},
     "output_type": "display_data"
    }
   ],
   "source": [
    "moyenne_empirique_age = echantillon_stratifie_age['age'].mean() #je calcule la moyenne des années de naissance dans l'échantillon stratifié\n",
    "display(round(moyenne_empirique_age, 2))\n",
    "variante_empirique_age = echantillon_stratifie_age['age'].var() #je calcule la variance des années de naissance dans l'échantillon stratifié\n",
    "display(round(variante_empirique_age, 2))"
   ]
  },
  {
   "cell_type": "code",
   "execution_count": 123,
   "metadata": {},
   "outputs": [
    {
     "data": {
      "text/plain": [
       "'Le resultat du test de normalité est :'"
      ]
     },
     "metadata": {},
     "output_type": "display_data"
    },
    {
     "data": {
      "text/plain": [
       "{0.19}"
      ]
     },
     "metadata": {},
     "output_type": "display_data"
    },
    {
     "data": {
      "text/plain": [
       "'un resultat proche de 0 indique que la distribution des années de naissance est normale'"
      ]
     },
     "metadata": {},
     "output_type": "display_data"
    },
    {
     "data": {
      "text/plain": [
       "'Le resultat du test de normalité est :'"
      ]
     },
     "metadata": {},
     "output_type": "display_data"
    },
    {
     "data": {
      "text/plain": [
       "{0.0}"
      ]
     },
     "metadata": {},
     "output_type": "display_data"
    },
    {
     "data": {
      "text/plain": [
       "': un resultat supérieur à 0.05 indique que la distribution des années de naissance est normale'"
      ]
     },
     "metadata": {},
     "output_type": "display_data"
    },
    {
     "data": {
      "text/plain": [
       "'-----------------------------'"
      ]
     },
     "metadata": {},
     "output_type": "display_data"
    },
    {
     "name": "stdout",
     "output_type": "stream",
     "text": [
      "La distribution des années de naissance n'est pas normale -> l'hypothèse nulle H0 est rejetée\n"
     ]
    }
   ],
   "source": [
    "stat, p_value = kstest(echantillon_stratifie_age['age'], 'norm', args=(moyenne_empirique_age, np.sqrt(moyenne_empirique_age))) #je teste la normalité de la distribution des années de naissance dans l'échantillon stratifié\n",
    "\n",
    "display(f\"Le resultat du test de normalité est :\", {round(stat, 2)}, 'un resultat proche de 0 indique que la distribution des années de naissance est normale')\n",
    "display(f\"Le resultat du test de normalité est :\", {round(p_value, 2)}, ': un resultat supérieur à 0.05 indique que la distribution des années de naissance est normale')\n",
    "\n",
    "display(\"-----------------------------\")\n",
    "\n",
    "alpha = 0.05 #je fixe la région critique à 5%\n",
    "\n",
    "if p_value > alpha:\n",
    "    print(\"La distribution des années de naissance est normale -> l'hypothèse nulle H0 n'est pas rejetée\")\n",
    "else:\n",
    "    print(\"La distribution des années de naissance n'est pas normale -> l'hypothèse nulle H0 est rejetée\")"
   ]
  },
  {
   "cell_type": "markdown",
   "metadata": {},
   "source": [
    "<div style=\" background-color: rgb(343, 197, 37);\" >\n",
    "<h2 style=\"margin: auto; padding: 20px 0; color:#fff; text-align: center\"> Partie 2 - Tests statistiques de corrélation\n",
    "</h2>\n",
    "</div>"
   ]
  },
  {
   "cell_type": "markdown",
   "metadata": {},
   "source": [
    "\n",
    "---\n",
    "### Test de corrélation entre le genre et la catégorie de produit : Test du Chi2 d'Indépendance\n",
    "---"
   ]
  },
  {
   "cell_type": "markdown",
   "metadata": {},
   "source": [
    "### -> Question : La proportion de catégorie de produits est la même chez les Hommes et Femmes ?\n",
    "\n",
    "#### H0 : Le genre du client est indépendant de la catégorie de produit acheter. (proportion équivalente entre H et F)\n",
    "\n",
    "#### H1 : Le genre du client est corréler à la catégorie de produit acheter. (au moins une des catég et davantage choisi selon le genre)"
   ]
  },
  {
   "cell_type": "code",
   "execution_count": 124,
   "metadata": {},
   "outputs": [
    {
     "data": {
      "text/html": [
       "<div>\n",
       "<style scoped>\n",
       "    .dataframe tbody tr th:only-of-type {\n",
       "        vertical-align: middle;\n",
       "    }\n",
       "\n",
       "    .dataframe tbody tr th {\n",
       "        vertical-align: top;\n",
       "    }\n",
       "\n",
       "    .dataframe thead th {\n",
       "        text-align: right;\n",
       "    }\n",
       "</style>\n",
       "<table border=\"1\" class=\"dataframe\">\n",
       "  <thead>\n",
       "    <tr style=\"text-align: right;\">\n",
       "      <th></th>\n",
       "      <th>sex</th>\n",
       "      <th>categ</th>\n",
       "    </tr>\n",
       "    <tr>\n",
       "      <th>Timestamp</th>\n",
       "      <th></th>\n",
       "      <th></th>\n",
       "    </tr>\n",
       "  </thead>\n",
       "  <tbody>\n",
       "    <tr>\n",
       "      <th>2021-03-01 00:01:07.843138</th>\n",
       "      <td>f</td>\n",
       "      <td>0</td>\n",
       "    </tr>\n",
       "    <tr>\n",
       "      <th>2021-03-01 00:02:26.047414</th>\n",
       "      <td>m</td>\n",
       "      <td>0</td>\n",
       "    </tr>\n",
       "    <tr>\n",
       "      <th>2021-03-01 00:02:38.311413</th>\n",
       "      <td>m</td>\n",
       "      <td>0</td>\n",
       "    </tr>\n",
       "    <tr>\n",
       "      <th>2021-03-01 00:04:54.559692</th>\n",
       "      <td>f</td>\n",
       "      <td>0</td>\n",
       "    </tr>\n",
       "    <tr>\n",
       "      <th>2021-03-01 00:05:18.801198</th>\n",
       "      <td>f</td>\n",
       "      <td>0</td>\n",
       "    </tr>\n",
       "    <tr>\n",
       "      <th>...</th>\n",
       "      <td>...</td>\n",
       "      <td>...</td>\n",
       "    </tr>\n",
       "    <tr>\n",
       "      <th>2023-02-28 23:49:03.148402</th>\n",
       "      <td>f</td>\n",
       "      <td>1</td>\n",
       "    </tr>\n",
       "    <tr>\n",
       "      <th>2023-02-28 23:51:29.318531</th>\n",
       "      <td>f</td>\n",
       "      <td>2</td>\n",
       "    </tr>\n",
       "    <tr>\n",
       "      <th>2023-02-28 23:53:18.929676</th>\n",
       "      <td>f</td>\n",
       "      <td>1</td>\n",
       "    </tr>\n",
       "    <tr>\n",
       "      <th>2023-02-28 23:58:00.107815</th>\n",
       "      <td>m</td>\n",
       "      <td>0</td>\n",
       "    </tr>\n",
       "    <tr>\n",
       "      <th>2023-02-28 23:58:30.792755</th>\n",
       "      <td>f</td>\n",
       "      <td>0</td>\n",
       "    </tr>\n",
       "  </tbody>\n",
       "</table>\n",
       "<p>687534 rows × 2 columns</p>\n",
       "</div>"
      ],
      "text/plain": [
       "                           sex categ\n",
       "Timestamp                           \n",
       "2021-03-01 00:01:07.843138   f     0\n",
       "2021-03-01 00:02:26.047414   m     0\n",
       "2021-03-01 00:02:38.311413   m     0\n",
       "2021-03-01 00:04:54.559692   f     0\n",
       "2021-03-01 00:05:18.801198   f     0\n",
       "...                         ..   ...\n",
       "2023-02-28 23:49:03.148402   f     1\n",
       "2023-02-28 23:51:29.318531   f     2\n",
       "2023-02-28 23:53:18.929676   f     1\n",
       "2023-02-28 23:58:00.107815   m     0\n",
       "2023-02-28 23:58:30.792755   f     0\n",
       "\n",
       "[687534 rows x 2 columns]"
      ]
     },
     "execution_count": 124,
     "metadata": {},
     "output_type": "execute_result"
    }
   ],
   "source": [
    "#Variables qualitatives (catégoriques)\n",
    "correl_age_categ = df_stat[['sex', 'categ']]\n",
    "correl_age_categ"
   ]
  },
  {
   "cell_type": "markdown",
   "metadata": {},
   "source": [
    "### Création du tableau de contingence/fréquence de Khi2 d'indépendence"
   ]
  },
  {
   "cell_type": "code",
   "execution_count": 125,
   "metadata": {},
   "outputs": [
    {
     "data": {
      "text/html": [
       "<div>\n",
       "<style scoped>\n",
       "    .dataframe tbody tr th:only-of-type {\n",
       "        vertical-align: middle;\n",
       "    }\n",
       "\n",
       "    .dataframe tbody tr th {\n",
       "        vertical-align: top;\n",
       "    }\n",
       "\n",
       "    .dataframe thead th {\n",
       "        text-align: right;\n",
       "    }\n",
       "</style>\n",
       "<table border=\"1\" class=\"dataframe\">\n",
       "  <thead>\n",
       "    <tr style=\"text-align: right;\">\n",
       "      <th>categ</th>\n",
       "      <th>0</th>\n",
       "      <th>1</th>\n",
       "      <th>2</th>\n",
       "    </tr>\n",
       "    <tr>\n",
       "      <th>sex</th>\n",
       "      <th></th>\n",
       "      <th></th>\n",
       "      <th></th>\n",
       "    </tr>\n",
       "  </thead>\n",
       "  <tbody>\n",
       "    <tr>\n",
       "      <th>f</th>\n",
       "      <td>206103</td>\n",
       "      <td>119307</td>\n",
       "      <td>17283</td>\n",
       "    </tr>\n",
       "    <tr>\n",
       "      <th>m</th>\n",
       "      <td>209356</td>\n",
       "      <td>116285</td>\n",
       "      <td>19200</td>\n",
       "    </tr>\n",
       "  </tbody>\n",
       "</table>\n",
       "</div>"
      ],
      "text/plain": [
       "categ       0       1      2\n",
       "sex                         \n",
       "f      206103  119307  17283\n",
       "m      209356  116285  19200"
      ]
     },
     "execution_count": 125,
     "metadata": {},
     "output_type": "execute_result"
    }
   ],
   "source": [
    "df_contingence = pd.crosstab(correl_age_categ['sex'], correl_age_categ['categ'])\n",
    "df_contingence"
   ]
  },
  {
   "cell_type": "code",
   "execution_count": 126,
   "metadata": {},
   "outputs": [
    {
     "name": "stdout",
     "output_type": "stream",
     "text": [
      "Chi2 Statistique: 158.25417617304882\n",
      "---------------------------------\n",
      "P-valeur: 4.3205822283997063e-35\n",
      "---------------------------------\n",
      "Degrés de liberté: 2\n",
      "---------------------------------\n",
      "Fréquences attendues:\n",
      " [[207080.50959953 117427.98066132  18184.50973915]\n",
      " [208378.49040047 118164.01933868  18298.49026085]]\n",
      "---------------------------------\n",
      "Le genre du client est indépendant de la catégorie de produit acheter. (proportion équivalente entre H et F)\n"
     ]
    }
   ],
   "source": [
    "# Calculer le test du Khi2 d'indépendance\n",
    "chi2, p, dof, expected = chi2_contingency(df_contingence)\n",
    "\n",
    "# Afficher les résultats\n",
    "print(f\"Chi2 Statistique: {chi2}\")\n",
    "print('---------------------------------')\n",
    "print(f\"P-valeur: {p}\")\n",
    "print('---------------------------------')\n",
    "print(f\"Degrés de liberté: {dof}\")\n",
    "print('---------------------------------')\n",
    "print(\"Fréquences attendues:\\n\", expected)\n",
    "print('---------------------------------')\n",
    "\n",
    "alpha = 0.05\n",
    "if p < alpha:\n",
    "    print(\"Le genre du client est indépendant de la catégorie de produit acheter. (proportion équivalente entre H et F)\")\n",
    "else:\n",
    "    print(\"Le genre du client est corréler à la catégorie de produit acheter. (au moins une des catég et davantage choisi selon le genre)\")"
   ]
  },
  {
   "cell_type": "markdown",
   "metadata": {},
   "source": [
    "\n",
    "<div style=\" background-color: rgb(343, 197, 37);\" >\n",
    "<h2 style=\"padding: 10px; color: white; text-align: center\" > Representation graphique\n",
    "</h2>\n",
    "</div>"
   ]
  },
  {
   "cell_type": "code",
   "execution_count": 127,
   "metadata": {},
   "outputs": [
    {
     "data": {
      "text/plain": [
       "Text(120.72222222222221, 0.5, 'Sexe')"
      ]
     },
     "execution_count": 127,
     "metadata": {},
     "output_type": "execute_result"
    },
    {
     "data": {
      "image/png": "[encoded data removed]",
      "text/plain": [
       "<Figure size 1200x600 with 2 Axes>"
      ]
     },
     "metadata": {},
     "output_type": "display_data"
    }
   ],
   "source": [
    "plt.figure(figsize=(12, 6))\n",
    "plt.subplot(1, 2, 1)\n",
    "sns.heatmap(df_contingence, annot=True, fmt='d', cmap='Blues')\n",
    "plt.title('Fréquences Observées')\n",
    "plt.xlabel('Catégorie de produit')\n",
    "plt.ylabel('Sexe')"
   ]
  },
  {
   "cell_type": "markdown",
   "metadata": {},
   "source": [
    "---\n",
    "#### On retient H0 : Le genre est indépendant de la catégorie de produit. (proportion équivalente entre H et F)\n",
    "---"
   ]
  },
  {
   "cell_type": "markdown",
   "metadata": {},
   "source": [
    "<div style=\"background-color: rgb(343, 197, 37);\" >\n",
    "</div>"
   ]
  },
  {
   "cell_type": "markdown",
   "metadata": {},
   "source": [
    "\n",
    "---\n",
    "### Test de corrélation entre l'âge et le montant d'achat : Coeff de corrélation de Spearman\n",
    "---"
   ]
  },
  {
   "cell_type": "markdown",
   "metadata": {},
   "source": [
    "### -> Question : Le montant d'achat est-il corréler à l'âge d'un individu ?\n",
    "\n",
    "#### H0 : Il n'y a pas de corrélation entre l'âge et le montant d'achat dans la population. => coeff = 0\n",
    "\n",
    "#### H1 : Il y a une corrélation entre l'âge et le montant d'achat dans la population. => coeff != 0"
   ]
  },
  {
   "cell_type": "code",
   "execution_count": 128,
   "metadata": {},
   "outputs": [
    {
     "data": {
      "text/html": [
       "<div>\n",
       "<style scoped>\n",
       "    .dataframe tbody tr th:only-of-type {\n",
       "        vertical-align: middle;\n",
       "    }\n",
       "\n",
       "    .dataframe tbody tr th {\n",
       "        vertical-align: top;\n",
       "    }\n",
       "\n",
       "    .dataframe thead th {\n",
       "        text-align: right;\n",
       "    }\n",
       "</style>\n",
       "<table border=\"1\" class=\"dataframe\">\n",
       "  <thead>\n",
       "    <tr style=\"text-align: right;\">\n",
       "      <th></th>\n",
       "      <th>price</th>\n",
       "      <th>age</th>\n",
       "    </tr>\n",
       "    <tr>\n",
       "      <th>Timestamp</th>\n",
       "      <th></th>\n",
       "      <th></th>\n",
       "    </tr>\n",
       "  </thead>\n",
       "  <tbody>\n",
       "    <tr>\n",
       "      <th>2021-03-01 00:01:07.843138</th>\n",
       "      <td>11.99</td>\n",
       "      <td>56</td>\n",
       "    </tr>\n",
       "    <tr>\n",
       "      <th>2021-03-01 00:02:26.047414</th>\n",
       "      <td>19.37</td>\n",
       "      <td>63</td>\n",
       "    </tr>\n",
       "    <tr>\n",
       "      <th>2021-03-01 00:02:38.311413</th>\n",
       "      <td>4.50</td>\n",
       "      <td>35</td>\n",
       "    </tr>\n",
       "    <tr>\n",
       "      <th>2021-03-01 00:04:54.559692</th>\n",
       "      <td>6.55</td>\n",
       "      <td>34</td>\n",
       "    </tr>\n",
       "    <tr>\n",
       "      <th>2021-03-01 00:05:18.801198</th>\n",
       "      <td>16.49</td>\n",
       "      <td>67</td>\n",
       "    </tr>\n",
       "    <tr>\n",
       "      <th>...</th>\n",
       "      <td>...</td>\n",
       "      <td>...</td>\n",
       "    </tr>\n",
       "    <tr>\n",
       "      <th>2023-02-28 23:49:03.148402</th>\n",
       "      <td>21.92</td>\n",
       "      <td>27</td>\n",
       "    </tr>\n",
       "    <tr>\n",
       "      <th>2023-02-28 23:51:29.318531</th>\n",
       "      <td>48.99</td>\n",
       "      <td>29</td>\n",
       "    </tr>\n",
       "    <tr>\n",
       "      <th>2023-02-28 23:53:18.929676</th>\n",
       "      <td>26.99</td>\n",
       "      <td>38</td>\n",
       "    </tr>\n",
       "    <tr>\n",
       "      <th>2023-02-28 23:58:00.107815</th>\n",
       "      <td>8.99</td>\n",
       "      <td>70</td>\n",
       "    </tr>\n",
       "    <tr>\n",
       "      <th>2023-02-28 23:58:30.792755</th>\n",
       "      <td>4.52</td>\n",
       "      <td>42</td>\n",
       "    </tr>\n",
       "  </tbody>\n",
       "</table>\n",
       "<p>687534 rows × 2 columns</p>\n",
       "</div>"
      ],
      "text/plain": [
       "                            price  age\n",
       "Timestamp                             \n",
       "2021-03-01 00:01:07.843138  11.99   56\n",
       "2021-03-01 00:02:26.047414  19.37   63\n",
       "2021-03-01 00:02:38.311413   4.50   35\n",
       "2021-03-01 00:04:54.559692   6.55   34\n",
       "2021-03-01 00:05:18.801198  16.49   67\n",
       "...                           ...  ...\n",
       "2023-02-28 23:49:03.148402  21.92   27\n",
       "2023-02-28 23:51:29.318531  48.99   29\n",
       "2023-02-28 23:53:18.929676  26.99   38\n",
       "2023-02-28 23:58:00.107815   8.99   70\n",
       "2023-02-28 23:58:30.792755   4.52   42\n",
       "\n",
       "[687534 rows x 2 columns]"
      ]
     },
     "execution_count": 128,
     "metadata": {},
     "output_type": "execute_result"
    }
   ],
   "source": [
    "df_coeff_correl = df_stat[['price', 'age']]\n",
    "df_coeff_correl"
   ]
  },
  {
   "cell_type": "code",
   "execution_count": 129,
   "metadata": {},
   "outputs": [
    {
     "name": "stdout",
     "output_type": "stream",
     "text": [
      "Coefficient de corrélation: -0.05546489462128308\n",
      "---------------------------------\n",
      "P-valeur: 0.0\n",
      "---------------------------------\n",
      "H1 validé ; Une corrélation existe entre l'âge et le prix des produits => coeff != 0\n"
     ]
    }
   ],
   "source": [
    "# Calcul de la corrélation et de la p-valeur\n",
    "correlation, p_value = spearmanr(df_coeff_correl['age'], df_coeff_correl['price'])\n",
    "\n",
    "print(f\"Coefficient de corrélation: {correlation}\")\n",
    "print('---------------------------------')\n",
    "print(f\"P-valeur: {p_value}\")\n",
    "print('---------------------------------')\n",
    "\n",
    "alpha = 0.005 #je fixe la région critique à 0,5% pour m'assurer de la corrélation\n",
    "if p_value < alpha: #je teste si la p-valeur(proba d'avoir l'age et le montant d'achat ensemble) est inférieure à 1%\n",
    "    print(\"H1 validé ; Une corrélation existe entre l'âge et le prix des produits => coeff != 0\")\n",
    "else:\n",
    "    print(\"H0 validé ; Aucune corrélation n'existe entre l'âge et le prix => coeff = 0\")\n"
   ]
  },
  {
   "cell_type": "markdown",
   "metadata": {},
   "source": [
    "\n",
    "<div style=\" background-color: rgb(343, 197, 37);\" >\n",
    "<h2 style=\"padding: 10px; color: white; text-align: center\" > Representation graphique\n",
    "</h2>\n",
    "</div>"
   ]
  },
  {
   "cell_type": "code",
   "execution_count": 130,
   "metadata": {},
   "outputs": [
    {
     "data": {
      "image/png": "[encoded data removed]",
      "text/plain": [
       "<Figure size 640x480 with 2 Axes>"
      ]
     },
     "metadata": {},
     "output_type": "display_data"
    }
   ],
   "source": [
    "sns.heatmap(df_coeff_correl.corr(method='spearman'), annot=True, cmap='coolwarm', fmt=\".2f\")\n",
    "plt.title('Heatmap de corrélation entre les variables')\n",
    "plt.show()"
   ]
  },
  {
   "cell_type": "markdown",
   "metadata": {},
   "source": [
    "---\n",
    "#### On retient H1 : Il y a une corrélation entre l'âge et le montant d'achat dans la population. => coeff != 0\n",
    "---"
   ]
  },
  {
   "cell_type": "markdown",
   "metadata": {},
   "source": [
    "#### Interprétation : le montant d'achat à tendance à baisser avec l'âge (coeff négatif mais proche de 0)"
   ]
  },
  {
   "cell_type": "markdown",
   "metadata": {},
   "source": [
    "<div style=\"background-color: rgb(343, 197, 37);\" >\n",
    "</div>"
   ]
  },
  {
   "cell_type": "markdown",
   "metadata": {},
   "source": [
    "\n",
    "---\n",
    "### Test de corrélation entre l'âge et la fréquence d'achat : Modèle de régréssion linéaire\n",
    "---"
   ]
  },
  {
   "cell_type": "code",
   "execution_count": 131,
   "metadata": {},
   "outputs": [
    {
     "data": {
      "text/html": [
       "<div>\n",
       "<style scoped>\n",
       "    .dataframe tbody tr th:only-of-type {\n",
       "        vertical-align: middle;\n",
       "    }\n",
       "\n",
       "    .dataframe tbody tr th {\n",
       "        vertical-align: top;\n",
       "    }\n",
       "\n",
       "    .dataframe thead th {\n",
       "        text-align: right;\n",
       "    }\n",
       "</style>\n",
       "<table border=\"1\" class=\"dataframe\">\n",
       "  <thead>\n",
       "    <tr style=\"text-align: right;\">\n",
       "      <th></th>\n",
       "      <th>client_id</th>\n",
       "      <th>age</th>\n",
       "      <th>frequence_achat</th>\n",
       "    </tr>\n",
       "  </thead>\n",
       "  <tbody>\n",
       "    <tr>\n",
       "      <th>4</th>\n",
       "      <td>c_2140</td>\n",
       "      <td>46</td>\n",
       "      <td>405</td>\n",
       "    </tr>\n",
       "    <tr>\n",
       "      <th>5</th>\n",
       "      <td>c_3263</td>\n",
       "      <td>38</td>\n",
       "      <td>403</td>\n",
       "    </tr>\n",
       "    <tr>\n",
       "      <th>6</th>\n",
       "      <td>c_2595</td>\n",
       "      <td>49</td>\n",
       "      <td>398</td>\n",
       "    </tr>\n",
       "    <tr>\n",
       "      <th>7</th>\n",
       "      <td>c_2077</td>\n",
       "      <td>39</td>\n",
       "      <td>386</td>\n",
       "    </tr>\n",
       "    <tr>\n",
       "      <th>8</th>\n",
       "      <td>c_1637</td>\n",
       "      <td>35</td>\n",
       "      <td>384</td>\n",
       "    </tr>\n",
       "    <tr>\n",
       "      <th>...</th>\n",
       "      <td>...</td>\n",
       "      <td>...</td>\n",
       "      <td>...</td>\n",
       "    </tr>\n",
       "    <tr>\n",
       "      <th>8595</th>\n",
       "      <td>c_4478</td>\n",
       "      <td>53</td>\n",
       "      <td>1</td>\n",
       "    </tr>\n",
       "    <tr>\n",
       "      <th>8596</th>\n",
       "      <td>c_4223</td>\n",
       "      <td>72</td>\n",
       "      <td>1</td>\n",
       "    </tr>\n",
       "    <tr>\n",
       "      <th>8597</th>\n",
       "      <td>c_4648</td>\n",
       "      <td>19</td>\n",
       "      <td>1</td>\n",
       "    </tr>\n",
       "    <tr>\n",
       "      <th>8598</th>\n",
       "      <td>c_1624</td>\n",
       "      <td>31</td>\n",
       "      <td>1</td>\n",
       "    </tr>\n",
       "    <tr>\n",
       "      <th>8599</th>\n",
       "      <td>c_8351</td>\n",
       "      <td>55</td>\n",
       "      <td>1</td>\n",
       "    </tr>\n",
       "  </tbody>\n",
       "</table>\n",
       "<p>8596 rows × 3 columns</p>\n",
       "</div>"
      ],
      "text/plain": [
       "     client_id  age  frequence_achat\n",
       "4       c_2140   46              405\n",
       "5       c_3263   38              403\n",
       "6       c_2595   49              398\n",
       "7       c_2077   39              386\n",
       "8       c_1637   35              384\n",
       "...        ...  ...              ...\n",
       "8595    c_4478   53                1\n",
       "8596    c_4223   72                1\n",
       "8597    c_4648   19                1\n",
       "8598    c_1624   31                1\n",
       "8599    c_8351   55                1\n",
       "\n",
       "[8596 rows x 3 columns]"
      ]
     },
     "execution_count": 131,
     "metadata": {},
     "output_type": "execute_result"
    }
   ],
   "source": [
    "#Création d'une variable 'frequence_achat' qui contient le nombre d'achat \n",
    "df_stat['frequence_achat'] = 1\n",
    "\n",
    "#Aggrégation des données par client et par âge pour plus de précision dans l'analyse\n",
    "data_aggregated = df_stat.groupby(['client_id', 'age'])['frequence_achat'].sum().reset_index()\n",
    "data_aggregated = data_aggregated.sort_values(by='frequence_achat', ascending=False).reset_index(drop=True)\n",
    "data_aggregated_no_outliers = data_aggregated.loc[data_aggregated['frequence_achat'] < 5000 ] #je filtre les valeurs extrêmes\n",
    "data_aggregated_no_outliers\n"
   ]
  },
  {
   "cell_type": "code",
   "execution_count": 144,
   "metadata": {},
   "outputs": [
    {
     "name": "stdout",
     "output_type": "stream",
     "text": [
      "Le coefficient de régression est : 0.12397308565027175\n",
      "Constante de régression est : 74.39934459434566\n"
     ]
    },
    {
     "data": {
      "image/png": "[encoded data removed]",
      "text/plain": [
       "<Figure size 1200x600 with 1 Axes>"
      ]
     },
     "metadata": {},
     "output_type": "display_data"
    }
   ],
   "source": [
    "#création du modèle de régression linéaire\n",
    "model = LinearRegression()\n",
    "\n",
    "X = data_aggregated[['age']] #variable indépendante\n",
    "y = data_aggregated['frequence_achat'] #variable dépendante\n",
    "\n",
    "\n",
    "# X variable indépendante (âge), y variable dépendante (fréquence d'achat)\n",
    "model.fit(X, y) #je fais apprendre le modèle sur les données\n",
    "\n",
    "print(f\"Le coefficient de régression est : {model.coef_[0]}\")\n",
    "print(f\"Constante de régression est : {model.intercept_}\")\n",
    "\n",
    "plt.figure(figsize=(12, 6))\n",
    "plt.scatter(X, y, color='blue')\n",
    "plt.plot(X, model.predict(X), color='green')\n",
    "plt.xlabel('Age')\n",
    "plt.ylabel('Fréquence d\\'achat')\n",
    "plt.title('Régression linéaire entre l\\'âge et la fréquence d\\'achat')\n",
    "plt.legend(['Régression linéaire', 'Données'])\n",
    "plt.show()"
   ]
  },
  {
   "cell_type": "markdown",
   "metadata": {},
   "source": [
    "### PS : Graphique ci-dessus biaisé par des outliers\n",
    "\n"
   ]
  },
  {
   "cell_type": "code",
   "execution_count": 148,
   "metadata": {},
   "outputs": [
    {
     "name": "stdout",
     "output_type": "stream",
     "text": [
      "Le coefficient de régression est : 0.12208662555439166\n",
      "Constante de régression est : 69.07651016415087\n"
     ]
    },
    {
     "data": {
      "image/png": "[encoded data removed]",
      "text/plain": [
       "<Figure size 1200x600 with 1 Axes>"
      ]
     },
     "metadata": {},
     "output_type": "display_data"
    }
   ],
   "source": [
    "#création du modèle de régression linéaire\n",
    "model = LinearRegression()\n",
    "\n",
    "A = data_aggregated_no_outliers[['age']] #variable indépendante\n",
    "b = data_aggregated_no_outliers['frequence_achat'] #variable dépendante\n",
    "\n",
    "# X variable indépendante (âge), y variable dépendante (fréquence d'achat)\n",
    "model.fit(A, b) #je fais apprendre le modèle sur les données\n",
    "\n",
    "print(f\"Le coefficient de régression est : {model.coef_[0]}\")\n",
    "print(f\"Constante de régression est : {model.intercept_}\")\n",
    "\n",
    "plt.figure(figsize=(12, 6))\n",
    "plt.scatter(A, b, color='blue')\n",
    "plt.plot(A, model.predict(A), color='red', linewidth=3)\n",
    "plt.xlabel('Age')\n",
    "plt.ylabel('Fréquence d\\'achat')\n",
    "plt.title('Régression linéaire entre l\\'âge et la fréquence d\\'achat')\n",
    "plt.legend(['Régression linéaire', 'Données'])\n",
    "plt.show()"
   ]
  },
  {
   "cell_type": "markdown",
   "metadata": {},
   "source": [
    "\n",
    "\n",
    "#### Le coefficient de régression est de 0.12, ce qui signifie que pour chaque année supplémentaire, la fréquence d'achat augmente de 0.12. La constante de régression est de 69.08, ce qui signifie que pour un client de 0 an, la fréquence d'achat est de 69.08. La régression linéaire montre une relation positive entre l'âge et la fréquence d'achat. Cela signifie que plus un client est âgé, plus il achète fréquemment."
   ]
  },
  {
   "cell_type": "markdown",
   "metadata": {},
   "source": [
    "### conclusion : la fréquence d'achat augmente avec l'âge du client (coeff > 0)"
   ]
  },
  {
   "cell_type": "markdown",
   "metadata": {},
   "source": [
    "<div style=\"background-color: rgb(343, 197, 37);\" >\n",
    "</div>"
   ]
  },
  {
   "cell_type": "markdown",
   "metadata": {},
   "source": [
    "\n",
    "---\n",
    "### Test de corrélation entre l'âge et la taille du panier moyen\n",
    "---"
   ]
  },
  {
   "cell_type": "markdown",
   "metadata": {},
   "source": [
    "### -> Question : Le panier moyen est-il corréler à l'âge d'un individu ?\n",
    "\n",
    "#### H0 : Il n'y a pas de corrélation entre l'âge et le montant du panier moyen. => coeff = 0\n",
    "\n",
    "#### H1 : Il y a une corrélation entre l'âge et le montant du panier moyen. => coeff != 0"
   ]
  },
  {
   "cell_type": "code",
   "execution_count": 134,
   "metadata": {},
   "outputs": [
    {
     "data": {
      "text/html": [
       "<div>\n",
       "<style scoped>\n",
       "    .dataframe tbody tr th:only-of-type {\n",
       "        vertical-align: middle;\n",
       "    }\n",
       "\n",
       "    .dataframe tbody tr th {\n",
       "        vertical-align: top;\n",
       "    }\n",
       "\n",
       "    .dataframe thead th {\n",
       "        text-align: right;\n",
       "    }\n",
       "</style>\n",
       "<table border=\"1\" class=\"dataframe\">\n",
       "  <thead>\n",
       "    <tr style=\"text-align: right;\">\n",
       "      <th></th>\n",
       "      <th>client_id</th>\n",
       "      <th>age</th>\n",
       "      <th>price</th>\n",
       "    </tr>\n",
       "  </thead>\n",
       "  <tbody>\n",
       "    <tr>\n",
       "      <th>0</th>\n",
       "      <td>c_1</td>\n",
       "      <td>68</td>\n",
       "      <td>14.628372</td>\n",
       "    </tr>\n",
       "    <tr>\n",
       "      <th>1</th>\n",
       "      <td>c_10</td>\n",
       "      <td>67</td>\n",
       "      <td>23.337931</td>\n",
       "    </tr>\n",
       "    <tr>\n",
       "      <th>2</th>\n",
       "      <td>c_100</td>\n",
       "      <td>31</td>\n",
       "      <td>31.856250</td>\n",
       "    </tr>\n",
       "    <tr>\n",
       "      <th>3</th>\n",
       "      <td>c_1000</td>\n",
       "      <td>57</td>\n",
       "      <td>18.189524</td>\n",
       "    </tr>\n",
       "    <tr>\n",
       "      <th>4</th>\n",
       "      <td>c_1001</td>\n",
       "      <td>41</td>\n",
       "      <td>17.707282</td>\n",
       "    </tr>\n",
       "    <tr>\n",
       "      <th>...</th>\n",
       "      <td>...</td>\n",
       "      <td>...</td>\n",
       "      <td>...</td>\n",
       "    </tr>\n",
       "    <tr>\n",
       "      <th>8595</th>\n",
       "      <td>c_995</td>\n",
       "      <td>68</td>\n",
       "      <td>13.529286</td>\n",
       "    </tr>\n",
       "    <tr>\n",
       "      <th>8596</th>\n",
       "      <td>c_996</td>\n",
       "      <td>53</td>\n",
       "      <td>17.055625</td>\n",
       "    </tr>\n",
       "    <tr>\n",
       "      <th>8597</th>\n",
       "      <td>c_997</td>\n",
       "      <td>29</td>\n",
       "      <td>25.254407</td>\n",
       "    </tr>\n",
       "    <tr>\n",
       "      <th>8598</th>\n",
       "      <td>c_998</td>\n",
       "      <td>22</td>\n",
       "      <td>51.313091</td>\n",
       "    </tr>\n",
       "    <tr>\n",
       "      <th>8599</th>\n",
       "      <td>c_999</td>\n",
       "      <td>59</td>\n",
       "      <td>15.247826</td>\n",
       "    </tr>\n",
       "  </tbody>\n",
       "</table>\n",
       "<p>8600 rows × 3 columns</p>\n",
       "</div>"
      ],
      "text/plain": [
       "     client_id  age      price\n",
       "0          c_1   68  14.628372\n",
       "1         c_10   67  23.337931\n",
       "2        c_100   31  31.856250\n",
       "3       c_1000   57  18.189524\n",
       "4       c_1001   41  17.707282\n",
       "...        ...  ...        ...\n",
       "8595     c_995   68  13.529286\n",
       "8596     c_996   53  17.055625\n",
       "8597     c_997   29  25.254407\n",
       "8598     c_998   22  51.313091\n",
       "8599     c_999   59  15.247826\n",
       "\n",
       "[8600 rows x 3 columns]"
      ]
     },
     "execution_count": 134,
     "metadata": {},
     "output_type": "execute_result"
    }
   ],
   "source": [
    "correl_age_mu = df_stat.groupby(['client_id', 'age'])['price'].mean().reset_index()\n",
    "correl_age_mu"
   ]
  },
  {
   "cell_type": "code",
   "execution_count": 135,
   "metadata": {},
   "outputs": [
    {
     "name": "stdout",
     "output_type": "stream",
     "text": [
      "Coefficient de corrélation: -0.3258367629603617\n",
      "---------------------------------\n",
      "P-valeur: 7.363415077094604e-212\n",
      "---------------------------------\n",
      "H1 validé ; Il y a une corrélation entre l'âge et le montant du panier moyen. => coeff != 0\n"
     ]
    }
   ],
   "source": [
    "correlation, p_value = spearmanr(correl_age_mu['age'], correl_age_mu['price'])\n",
    "\n",
    "print(f\"Coefficient de corrélation: {correlation}\")\n",
    "print('---------------------------------')\n",
    "print(f\"P-valeur: {p_value}\")\n",
    "print('---------------------------------')\n",
    "\n",
    "alpha = 0.005 #je fixe la région critique à 0,5% pour m'assurer de la corrélation\n",
    "if p_value < alpha: #je teste si la p-valeur(proba d'avoir l'age et le panier moyen) est inférieure à 0,5%\n",
    "    print(\"H1 validé ; Il y a une corrélation entre l'âge et le montant du panier moyen. => coeff != 0\")\n",
    "else:\n",
    "    print(\"H0 validé: Il n'y a pas de corrélation entre l'âge et le montant du panier moyen. => coeff = 0\")"
   ]
  },
  {
   "cell_type": "markdown",
   "metadata": {},
   "source": [
    "#### On a ici un coefficient de corrélation négatif de -0.32 , ce qui veut dire que le montant du panier tend à baisser lorsque l'âge augmente"
   ]
  },
  {
   "cell_type": "markdown",
   "metadata": {},
   "source": [
    "---\n",
    "#### On retient H1 : Il y a une corrélation entre l'âge et le montant du panier moyen. => coeff != 0\n",
    "---"
   ]
  },
  {
   "cell_type": "markdown",
   "metadata": {},
   "source": [
    "<div style=\" background-color: rgb(343, 197, 37);\" >\n",
    "<h2 style=\"padding: 10px; color: white; text-align: center\" > Representation graphique\n",
    "</h2>\n",
    "</div>"
   ]
  },
  {
   "cell_type": "code",
   "execution_count": 136,
   "metadata": {},
   "outputs": [
    {
     "data": {
      "image/png": "[encoded data removed]",
      "text/plain": [
       "<Figure size 640x480 with 2 Axes>"
      ]
     },
     "metadata": {},
     "output_type": "display_data"
    }
   ],
   "source": [
    "def drop_column(df):\n",
    "    return df.drop(columns=['client_id'])\n",
    "correl_age_mu2 = drop_column(correl_age_mu)\n",
    "\n",
    "\n",
    "sns.heatmap(correl_age_mu2.corr(method='spearman'), annot=True, cmap='coolwarm', fmt=\".2f\")\n",
    "plt.title('Heatmap de corrélation entre les variables')\n",
    "plt.show()"
   ]
  },
  {
   "cell_type": "markdown",
   "metadata": {},
   "source": [
    "<div style=\"background-color: rgb(343, 197, 37);\" >\n",
    "</div>"
   ]
  },
  {
   "cell_type": "markdown",
   "metadata": {},
   "source": [
    "\n",
    "---\n",
    "### Test de corrélation entre l'âge et la catégorie de produit : Test ANOVA\n",
    "---"
   ]
  },
  {
   "cell_type": "markdown",
   "metadata": {},
   "source": [
    "### Hypothèse nulle (H0) : Les moyennes de tous les groupes sont égales => mu = mu\n",
    "### Hypothèse alternative (H1) : Au moins une moyenne de groupe est différente des autres. => mu != mu"
   ]
  },
  {
   "cell_type": "code",
   "execution_count": 137,
   "metadata": {},
   "outputs": [],
   "source": [
    "group_0 = df_stat[df_stat['categ'] == '0']['age']\n",
    "group_1 = df_stat[df_stat['categ'] == '1']['age']\n",
    "group_2 = df_stat[df_stat['categ'] == '2']['age']"
   ]
  },
  {
   "cell_type": "code",
   "execution_count": 138,
   "metadata": {},
   "outputs": [
    {
     "name": "stdout",
     "output_type": "stream",
     "text": [
      "Statistique F: 45120.03553567384\n",
      "p-value: 0.0\n",
      "Il y a une différence significative entre les moyennes d'âge des différentes catégories de livres.\n"
     ]
    }
   ],
   "source": [
    "# ANOVA\n",
    "f_statistic, p_value = f_oneway(group_0, group_1, group_2)\n",
    "\n",
    "print('Statistique F:', f_statistic)\n",
    "print('p-value:', p_value)\n",
    "\n",
    "# Interprétation des résultats\n",
    "if p_value < 0.05:\n",
    "    print(\"Il y a une différence significative entre les moyennes d'âge des différentes catégories de livres.\")\n",
    "else:\n",
    "    print(\"Il n'y a pas de différence significative entre les moyennes d'âge des différentes catégories de livres.\")"
   ]
  },
  {
   "cell_type": "markdown",
   "metadata": {},
   "source": [
    "---\n",
    "#### On retient H1 : Il y a une corrélation entre l'âge moyen et la catégorie de livre => coeff != 0\n",
    "---"
   ]
  },
  {
   "cell_type": "markdown",
   "metadata": {},
   "source": [
    "<div style=\"background-color: rgb(343, 197, 37);\" >\n",
    "</div>"
   ]
  },
  {
   "cell_type": "code",
   "execution_count": 139,
   "metadata": {},
   "outputs": [
    {
     "name": "stdout",
     "output_type": "stream",
     "text": [
      " Multiple Comparison of Means - Tukey HSD, FWER=0.05 \n",
      "=====================================================\n",
      "group1 group2 meandiff p-adj  lower    upper   reject\n",
      "-----------------------------------------------------\n",
      "     0      1   3.6118   0.0   3.5345   3.6891   True\n",
      "     0      2 -17.9494   0.0 -18.1132 -17.7857   True\n",
      "     1      2 -21.5612   0.0 -21.7299 -21.3925   True\n",
      "-----------------------------------------------------\n"
     ]
    },
    {
     "data": {
      "text/plain": [
       "'---------------------------------'"
      ]
     },
     "metadata": {},
     "output_type": "display_data"
    },
    {
     "data": {
      "image/png": "[encoded data removed]",
      "text/plain": [
       "<Figure size 1000x600 with 1 Axes>"
      ]
     },
     "metadata": {},
     "output_type": "display_data"
    }
   ],
   "source": [
    "# Test de Tukey\n",
    "from statsmodels.stats.multicomp import pairwise_tukeyhsd\n",
    "\n",
    "# Créer un DataFrame pour le test de Tukey\n",
    "df_tukey = pd.DataFrame({'vals': np.concatenate([group_0, group_1, group_2]),\n",
    "                         'group': np.concatenate([['0'] * len(group_0), ['1'] * len(group_1), ['2'] * len(group_2)])})\n",
    "\n",
    "# Réaliser le test de Tukey\n",
    "tukey = pairwise_tukeyhsd(endog=df_tukey['vals'], groups=df_tukey['group'], alpha=0.05)\n",
    "\n",
    "# Afficher les résultats\n",
    "print(tukey)\n",
    "display('---------------------------------')\n",
    "# Test de Tukey\n",
    "tukey.plot_simultaneous()\n",
    "plt.show()\n"
   ]
  },
  {
   "cell_type": "markdown",
   "metadata": {},
   "source": [
    "<div style=\"background-color: rgb(343, 197, 37);\" >\n",
    "</div>"
   ]
  },
  {
   "cell_type": "markdown",
   "metadata": {},
   "source": [
    "\n",
    "---\n",
    "### Profil des clients : Courbe de Lorenz\n",
    "---"
   ]
  },
  {
   "cell_type": "code",
   "execution_count": 140,
   "metadata": {},
   "outputs": [
    {
     "data": {
      "image/png": "[encoded data removed]",
      "text/plain": [
       "<Figure size 640x480 with 1 Axes>"
      ]
     },
     "metadata": {},
     "output_type": "display_data"
    }
   ],
   "source": [
    "chiffre_affaires_client = df_stat.groupby('client_id')['price'].sum()\n",
    "\n",
    "chiffre_affaires_tries = chiffre_affaires_client.sort_values()\n",
    "\n",
    "cumul_chiffre_affaires = np.cumsum(chiffre_affaires_tries)\n",
    "cumul_chiffre_affaires = cumul_chiffre_affaires / cumul_chiffre_affaires.iloc[-1]  # Normaliser\n",
    "\n",
    "cumul_clients = np.arange(1, len(chiffre_affaires_tries) + 1) / len(chiffre_affaires_tries)\n",
    "\n",
    "# Tracer la courbe de Lorenz\n",
    "plt.plot(cumul_clients, cumul_chiffre_affaires, label=\"Courbe de Lorenz\")\n",
    "plt.plot([0, 1], [0, 1], '--', label=\"Égalité parfaite\")\n",
    "plt.xlabel(\"Part cumulée des clients\")\n",
    "plt.ylabel(\"Part cumulée du chiffre d'affaires\")\n",
    "plt.title(\"Courbe de Lorenz du Chiffre d'Affaires par Client\")\n",
    "plt.legend()\n",
    "plt.show()\n",
    "\n"
   ]
  },
  {
   "cell_type": "code",
   "execution_count": 141,
   "metadata": {},
   "outputs": [
    {
     "data": {
      "text/plain": [
       "0.4420121590259247"
      ]
     },
     "execution_count": 141,
     "metadata": {},
     "output_type": "execute_result"
    }
   ],
   "source": [
    "# calcul du coefficient de Gini\n",
    "aire_sous_courbe_lorenz = cumul_chiffre_affaires[:-1].sum() / len(cumul_chiffre_affaires)\n",
    "aire_sur_diagonale = 0.5\n",
    "gini = (aire_sur_diagonale - aire_sous_courbe_lorenz) / aire_sur_diagonale\n",
    "gini"
   ]
  },
  {
   "cell_type": "markdown",
   "metadata": {},
   "source": [
    "---\n",
    "### Conclusion : le coefficient de Gini est proche de 0,5 ce qui signifie que la distribution du chiffre d'affaires par client est équitable\n",
    "---"
   ]
  },
  {
   "cell_type": "markdown",
   "metadata": {},
   "source": [
    "### Il a été demandé un test t de student et/ou de justifier l'utilisation ou non ce test : \n",
    "\n",
    "#### Le test de student est un test paramétrique (distribution normale dans la variable quanti choisi) or aucune de nos variables quantitative ne respecte une loi de distribution normale (cf. Partie 1 sur les tests de normalité). Par conséquent, on ne peut pas interpreter avec fiabilité les résultats de ce test. Donc nous ne l'utiliserons pas dans notre projet."
   ]
  },
  {
   "cell_type": "code",
   "execution_count": 143,
   "metadata": {},
   "outputs": [],
   "source": [
    "df_stat.to_csv('../Source/Data_processed/to_main.csv', sep=';', index=True) #je sauvegarde le fichier"
   ]
  }
 ],
 "metadata": {
  "kernelspec": {
   "display_name": "venv6",
   "language": "python",
   "name": "python3"
  },
  "language_info": {
   "codemirror_mode": {
    "name": "ipython",
    "version": 3
   },
   "file_extension": ".py",
   "mimetype": "text/x-python",
   "name": "python",
   "nbconvert_exporter": "python",
   "pygments_lexer": "ipython3",
   "version": "3.12.4"
  }
 },
 "nbformat": 4,
 "nbformat_minor": 2
}
