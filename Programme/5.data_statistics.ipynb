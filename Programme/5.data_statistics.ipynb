{
 "cells": [
  {
   "cell_type": "markdown",
   "metadata": {},
   "source": [
    "<div style=\" background-color: rgb(43, 197, 37);\" >\n",
    "<h2 style=\"margin: auto; padding: 20px 0; color:#fff; text-align: center\">Data & tests statistiques\n",
    "</h2>\n",
    "</div>"
   ]
  },
  {
   "cell_type": "code",
   "execution_count": 66,
   "metadata": {},
   "outputs": [],
   "source": [
    "import pandas as pd\n",
    "import numpy as np\n",
    "from matplotlib import image\n",
    "import matplotlib.pyplot as plt \n",
    "import seaborn as sns\n",
    "\n",
    "np.set_printoptions(precision=2)\n",
    "\n",
    "import scipy.stats as stats\n",
    "from scipy.stats import ttest_1samp\n",
    "from scipy.stats import f_oneway\n",
    "from scipy.stats import chi2\n",
    "from scipy.stats import chi2_contingency\n",
    "from scipy.stats import pearsonr\n",
    "from scipy.stats import kstest"
   ]
  },
  {
   "cell_type": "code",
   "execution_count": 67,
   "metadata": {},
   "outputs": [],
   "source": [
    "df_stat = pd.read_csv('../Source/Data_processed/lapage_all.csv', sep=';', index_col=['Timestamp'] , parse_dates=True)"
   ]
  },
  {
   "cell_type": "code",
   "execution_count": 68,
   "metadata": {},
   "outputs": [
    {
     "name": "stdout",
     "output_type": "stream",
     "text": [
      "<class 'pandas.core.frame.DataFrame'>\n",
      "DatetimeIndex: 687534 entries, 2021-03-01 00:01:07.843138 to 2023-02-28 23:58:30.792755\n",
      "Data columns (total 7 columns):\n",
      " #   Column      Non-Null Count   Dtype  \n",
      "---  ------      --------------   -----  \n",
      " 0   id_prod     687534 non-null  object \n",
      " 1   session_id  687534 non-null  object \n",
      " 2   client_id   687534 non-null  object \n",
      " 3   sex         687534 non-null  object \n",
      " 4   birth       687534 non-null  int64  \n",
      " 5   price       687534 non-null  float64\n",
      " 6   categ       687534 non-null  object \n",
      "dtypes: float64(1), int64(1), object(5)\n",
      "memory usage: 42.0+ MB\n"
     ]
    }
   ],
   "source": [
    "df_stat['categ'] = df_stat['categ'].astype(str)\n",
    "df_stat.info()"
   ]
  },
  {
   "cell_type": "code",
   "execution_count": 69,
   "metadata": {},
   "outputs": [
    {
     "data": {
      "text/html": [
       "<div>\n",
       "<style scoped>\n",
       "    .dataframe tbody tr th:only-of-type {\n",
       "        vertical-align: middle;\n",
       "    }\n",
       "\n",
       "    .dataframe tbody tr th {\n",
       "        vertical-align: top;\n",
       "    }\n",
       "\n",
       "    .dataframe thead th {\n",
       "        text-align: right;\n",
       "    }\n",
       "</style>\n",
       "<table border=\"1\" class=\"dataframe\">\n",
       "  <thead>\n",
       "    <tr style=\"text-align: right;\">\n",
       "      <th></th>\n",
       "      <th>id_prod</th>\n",
       "      <th>session_id</th>\n",
       "      <th>client_id</th>\n",
       "      <th>sex</th>\n",
       "      <th>birth</th>\n",
       "      <th>price</th>\n",
       "      <th>categ</th>\n",
       "    </tr>\n",
       "    <tr>\n",
       "      <th>Timestamp</th>\n",
       "      <th></th>\n",
       "      <th></th>\n",
       "      <th></th>\n",
       "      <th></th>\n",
       "      <th></th>\n",
       "      <th></th>\n",
       "      <th></th>\n",
       "    </tr>\n",
       "  </thead>\n",
       "  <tbody>\n",
       "    <tr>\n",
       "      <th>2021-03-01 00:01:07.843138</th>\n",
       "      <td>0_1259</td>\n",
       "      <td>s_1</td>\n",
       "      <td>c_329</td>\n",
       "      <td>f</td>\n",
       "      <td>1967</td>\n",
       "      <td>11.99</td>\n",
       "      <td>0</td>\n",
       "    </tr>\n",
       "    <tr>\n",
       "      <th>2021-03-01 00:02:26.047414</th>\n",
       "      <td>0_1390</td>\n",
       "      <td>s_2</td>\n",
       "      <td>c_664</td>\n",
       "      <td>m</td>\n",
       "      <td>1960</td>\n",
       "      <td>19.37</td>\n",
       "      <td>0</td>\n",
       "    </tr>\n",
       "    <tr>\n",
       "      <th>2021-03-01 00:02:38.311413</th>\n",
       "      <td>0_1352</td>\n",
       "      <td>s_3</td>\n",
       "      <td>c_580</td>\n",
       "      <td>m</td>\n",
       "      <td>1988</td>\n",
       "      <td>4.50</td>\n",
       "      <td>0</td>\n",
       "    </tr>\n",
       "    <tr>\n",
       "      <th>2021-03-01 00:04:54.559692</th>\n",
       "      <td>0_1458</td>\n",
       "      <td>s_4</td>\n",
       "      <td>c_7912</td>\n",
       "      <td>f</td>\n",
       "      <td>1989</td>\n",
       "      <td>6.55</td>\n",
       "      <td>0</td>\n",
       "    </tr>\n",
       "    <tr>\n",
       "      <th>2021-03-01 00:05:18.801198</th>\n",
       "      <td>0_1358</td>\n",
       "      <td>s_5</td>\n",
       "      <td>c_2033</td>\n",
       "      <td>f</td>\n",
       "      <td>1956</td>\n",
       "      <td>16.49</td>\n",
       "      <td>0</td>\n",
       "    </tr>\n",
       "    <tr>\n",
       "      <th>...</th>\n",
       "      <td>...</td>\n",
       "      <td>...</td>\n",
       "      <td>...</td>\n",
       "      <td>...</td>\n",
       "      <td>...</td>\n",
       "      <td>...</td>\n",
       "      <td>...</td>\n",
       "    </tr>\n",
       "    <tr>\n",
       "      <th>2023-02-28 23:49:03.148402</th>\n",
       "      <td>1_508</td>\n",
       "      <td>s_348444</td>\n",
       "      <td>c_3573</td>\n",
       "      <td>f</td>\n",
       "      <td>1996</td>\n",
       "      <td>21.92</td>\n",
       "      <td>1</td>\n",
       "    </tr>\n",
       "    <tr>\n",
       "      <th>2023-02-28 23:51:29.318531</th>\n",
       "      <td>2_37</td>\n",
       "      <td>s_348445</td>\n",
       "      <td>c_50</td>\n",
       "      <td>f</td>\n",
       "      <td>1994</td>\n",
       "      <td>48.99</td>\n",
       "      <td>2</td>\n",
       "    </tr>\n",
       "    <tr>\n",
       "      <th>2023-02-28 23:53:18.929676</th>\n",
       "      <td>1_695</td>\n",
       "      <td>s_348446</td>\n",
       "      <td>c_488</td>\n",
       "      <td>f</td>\n",
       "      <td>1985</td>\n",
       "      <td>26.99</td>\n",
       "      <td>1</td>\n",
       "    </tr>\n",
       "    <tr>\n",
       "      <th>2023-02-28 23:58:00.107815</th>\n",
       "      <td>0_1547</td>\n",
       "      <td>s_348447</td>\n",
       "      <td>c_4848</td>\n",
       "      <td>m</td>\n",
       "      <td>1953</td>\n",
       "      <td>8.99</td>\n",
       "      <td>0</td>\n",
       "    </tr>\n",
       "    <tr>\n",
       "      <th>2023-02-28 23:58:30.792755</th>\n",
       "      <td>0_1398</td>\n",
       "      <td>s_348435</td>\n",
       "      <td>c_3575</td>\n",
       "      <td>f</td>\n",
       "      <td>1981</td>\n",
       "      <td>4.52</td>\n",
       "      <td>0</td>\n",
       "    </tr>\n",
       "  </tbody>\n",
       "</table>\n",
       "<p>687534 rows × 7 columns</p>\n",
       "</div>"
      ],
      "text/plain": [
       "                           id_prod session_id client_id sex  birth  price  \\\n",
       "Timestamp                                                                   \n",
       "2021-03-01 00:01:07.843138  0_1259        s_1     c_329   f   1967  11.99   \n",
       "2021-03-01 00:02:26.047414  0_1390        s_2     c_664   m   1960  19.37   \n",
       "2021-03-01 00:02:38.311413  0_1352        s_3     c_580   m   1988   4.50   \n",
       "2021-03-01 00:04:54.559692  0_1458        s_4    c_7912   f   1989   6.55   \n",
       "2021-03-01 00:05:18.801198  0_1358        s_5    c_2033   f   1956  16.49   \n",
       "...                            ...        ...       ...  ..    ...    ...   \n",
       "2023-02-28 23:49:03.148402   1_508   s_348444    c_3573   f   1996  21.92   \n",
       "2023-02-28 23:51:29.318531    2_37   s_348445      c_50   f   1994  48.99   \n",
       "2023-02-28 23:53:18.929676   1_695   s_348446     c_488   f   1985  26.99   \n",
       "2023-02-28 23:58:00.107815  0_1547   s_348447    c_4848   m   1953   8.99   \n",
       "2023-02-28 23:58:30.792755  0_1398   s_348435    c_3575   f   1981   4.52   \n",
       "\n",
       "                           categ  \n",
       "Timestamp                         \n",
       "2021-03-01 00:01:07.843138     0  \n",
       "2021-03-01 00:02:26.047414     0  \n",
       "2021-03-01 00:02:38.311413     0  \n",
       "2021-03-01 00:04:54.559692     0  \n",
       "2021-03-01 00:05:18.801198     0  \n",
       "...                          ...  \n",
       "2023-02-28 23:49:03.148402     1  \n",
       "2023-02-28 23:51:29.318531     2  \n",
       "2023-02-28 23:53:18.929676     1  \n",
       "2023-02-28 23:58:00.107815     0  \n",
       "2023-02-28 23:58:30.792755     0  \n",
       "\n",
       "[687534 rows x 7 columns]"
      ]
     },
     "execution_count": 69,
     "metadata": {},
     "output_type": "execute_result"
    }
   ],
   "source": [
    "df_stat"
   ]
  },
  {
   "cell_type": "markdown",
   "metadata": {},
   "source": [
    "#### Mes données sont-elles numériques (quantitatives) ou catégoriques (qualitatives) ?\n",
    "- J'ai 2 variables quantitative et 5 variables catégoriques\n",
    "#### Ecrire toutes les questions que je me pose"
   ]
  },
  {
   "cell_type": "markdown",
   "metadata": {},
   "source": [
    "#### Quel est le nombre de groupes ou de variables que je compare ?\n",
    "\n",
    "#### Quel est l'objectif de mon étude ? Que cherche-je à déterminer ou à comparer ?"
   ]
  },
  {
   "cell_type": "markdown",
   "metadata": {},
   "source": [
    "<div style=\" background-color: rgb(343, 197, 37);\" >\n",
    "<h2 style=\"margin: auto; padding: 20px 0; color:#fff; text-align: center\"> Partie 1 - Test de normalité des données\n",
    "</h2>\n",
    "</div>"
   ]
  },
  {
   "cell_type": "markdown",
   "metadata": {},
   "source": [
    "---\n",
    "### 1.1 Choisir la variable à tester (variable quanti) -> Prix\n",
    "---"
   ]
  },
  {
   "cell_type": "code",
   "execution_count": 70,
   "metadata": {},
   "outputs": [
    {
     "data": {
      "text/plain": [
       "Timestamp\n",
       "2021-03-01 00:01:07.843138    11.99\n",
       "2021-03-01 00:02:26.047414    19.37\n",
       "Name: price, dtype: float64"
      ]
     },
     "execution_count": 70,
     "metadata": {},
     "output_type": "execute_result"
    }
   ],
   "source": [
    "df_stat['price'].head(2)"
   ]
  },
  {
   "cell_type": "markdown",
   "metadata": {},
   "source": [
    "---\n",
    "### 1.1 bis - Est-ce que la variable prix suit une distribution normal ? Hypothèses :\n",
    "----"
   ]
  },
  {
   "cell_type": "markdown",
   "metadata": {},
   "source": [
    "#### H0 : la variable prix suit une loi normal p > 0,05\n",
    "#### H1 : la variable prix ne suit pas une loi normal p < 0,05\n"
   ]
  },
  {
   "cell_type": "markdown",
   "metadata": {},
   "source": [
    "---\n",
    "### 1.2 - Décrire la variable (moyenne , écart-type (std) , variance (var) \n",
    "---"
   ]
  },
  {
   "cell_type": "code",
   "execution_count": 71,
   "metadata": {},
   "outputs": [
    {
     "name": "stdout",
     "output_type": "stream",
     "text": [
      "la moyenne (x barre) théorique est 17.49\n",
      "l'écart type ou stand.dev. (sigma) théorique est 18.24\n",
      "la variance (sigma carré) théorique est de 332.64\n"
     ]
    }
   ],
   "source": [
    "print(f\"la moyenne (x barre) théorique est {round(df_stat['price'].mean(), 2)}\")\n",
    "print(f\"l'écart type ou stand.dev. (sigma) théorique est {round(df_stat['price'].std(), 2)}\")\n",
    "print(f\"la variance (sigma carré) théorique est de {round(df_stat['price'].var(), 2)}\")"
   ]
  },
  {
   "cell_type": "markdown",
   "metadata": {},
   "source": [
    "---\n",
    "### 1.3 - Détérminer un échantillon (mathématiquement)\n",
    "---"
   ]
  },
  {
   "cell_type": "code",
   "execution_count": 72,
   "metadata": {},
   "outputs": [
    {
     "data": {
      "text/plain": [
       "\"Taille d'échantillon nécessaire :\""
      ]
     },
     "metadata": {},
     "output_type": "display_data"
    },
    {
     "data": {
      "text/plain": [
       "1279"
      ]
     },
     "metadata": {},
     "output_type": "display_data"
    }
   ],
   "source": [
    "## Fixation de la taille de l'échantillon       \n",
    "import math\n",
    "\n",
    "# Paramètres\n",
    "marge_erreur = 1\n",
    "niveau_confiance = 0.95\n",
    "ecart_type_estime = 18.24  # Écart-type estimé des prix dans votre dataset\n",
    "\n",
    "# Z-score pour un niveau de confiance de 95%\n",
    "z_score = 1.96  # Pour un niveau de confiance de 95%\n",
    "\n",
    "# Taille de l'échantillon\n",
    "taille_echantillon = (z_score * ecart_type_estime / marge_erreur) ** 2\n",
    "taille_echantillon = math.ceil(taille_echantillon)  # Arrondir à l'entier supérieur\n",
    "\n",
    "display(\"Taille d'échantillon nécessaire :\", taille_echantillon)\n"
   ]
  },
  {
   "cell_type": "markdown",
   "metadata": {},
   "source": [
    "---\n",
    "### 1.4 - Stratifié l'échantillon pour fiabiliser la représentativité des données\n",
    "---"
   ]
  },
  {
   "cell_type": "markdown",
   "metadata": {},
   "source": [
    "- le sexe (650 hommes et 650 femmes)"
   ]
  },
  {
   "cell_type": "code",
   "execution_count": 81,
   "metadata": {},
   "outputs": [
    {
     "name": "stdout",
     "output_type": "stream",
     "text": [
      "                           id_prod session_id client_id sex  birth  price  \\\n",
      "Timestamp                                                                   \n",
      "2022-10-11 08:04:51.518235   1_431   s_280852    c_6497   m   1959  27.99   \n",
      "\n",
      "                           categ  \n",
      "Timestamp                         \n",
      "2022-10-11 08:04:51.518235     1  \n"
     ]
    },
    {
     "data": {
      "text/plain": [
       "'-----------------------------'"
      ]
     },
     "metadata": {},
     "output_type": "display_data"
    },
    {
     "name": "stdout",
     "output_type": "stream",
     "text": [
      "sex\n",
      "m    652\n",
      "f    648\n",
      "Name: count, dtype: int64\n"
     ]
    }
   ],
   "source": [
    "from sklearn.model_selection import StratifiedShuffleSplit\n",
    "\n",
    "taille_echantillon = 1300 #je fixe la taille de l'échantillon à 1300\n",
    "\n",
    "sss = StratifiedShuffleSplit(n_splits=1, test_size=taille_echantillon, random_state=9000) #j'initialise l'objet StratifiedShuffleSplit pour générer un échantillon stratifié de 1300 individus\n",
    "\n",
    "for train_index, test_index in sss.split(df_stat, df_stat['sex']): #je génère l'échantillon stratifié selon la variable sex\n",
    "    echantillon_stratifie = df_stat.iloc[test_index] #je récupère l'échantillon stratifié\n",
    "    \n",
    "print(echantillon_stratifie.head(1)) #j'affiche la premières lignes de l'échantillon stratifié\n",
    "display(\"-----------------------------\")\n",
    "print(echantillon_stratifie['sex'].value_counts()) #je vérifie"
   ]
  },
  {
   "cell_type": "markdown",
   "metadata": {},
   "source": [
    "---\n",
    "### 1.5 - Appliquer le test de Kosmogorov-Smirnov\n",
    "---"
   ]
  },
  {
   "cell_type": "code",
   "execution_count": 82,
   "metadata": {},
   "outputs": [
    {
     "data": {
      "text/plain": [
       "17.77"
      ]
     },
     "metadata": {},
     "output_type": "display_data"
    },
    {
     "data": {
      "text/plain": [
       "19.94"
      ]
     },
     "metadata": {},
     "output_type": "display_data"
    },
    {
     "data": {
      "text/plain": [
       "'-----------------------------'"
      ]
     },
     "metadata": {},
     "output_type": "display_data"
    },
    {
     "data": {
      "text/plain": [
       "'-----------------------------'"
      ]
     },
     "metadata": {},
     "output_type": "display_data"
    },
    {
     "name": "stdout",
     "output_type": "stream",
     "text": [
      "Statistique de test KS: 0.2434\n",
      "Valeur p: 0.000000000000000000000000000000000000000000000000000000000000000000027119359957\n"
     ]
    },
    {
     "data": {
      "text/plain": [
       "'-----------------------------'"
      ]
     },
     "metadata": {},
     "output_type": "display_data"
    },
    {
     "name": "stdout",
     "output_type": "stream",
     "text": [
      "La distribution des prix n'est pas normale -> l'hypothèse nulle H0 est rejetée\n"
     ]
    }
   ],
   "source": [
    "mean_prix =echantillon_stratifie['price'].mean() #je calcule la moyenne des prix dans l'échantillon stratifié\n",
    "std_prix = echantillon_stratifie['price'].std() #je calcule l'écart-type des prix dans l'échantillon stratifié\n",
    "display(round(mean_prix, 2))\n",
    "display(round(std_prix, 2))\n",
    "display(\"-----------------------------\")\n",
    "\n",
    "stat, p_value = kstest(echantillon_stratifie['price'], 'norm', args=(mean_prix, std_prix)) #je teste la normalité de la distribution des prix dans l'échantillon stratifié\n",
    "\n",
    "display(\"-----------------------------\")\n",
    "\n",
    "print(\"Statistique de test KS:\", round(stat, 5))\n",
    "print(\"Valeur p:\", np.format_float_positional(p_value, precision=78))\n",
    "\n",
    "display(\"-----------------------------\")\n",
    "\n",
    "if p_value > 0.05:\n",
    "    print(\"La distribution des prix est normale -> l'hypothèse nulle H0 n'est pas rejetée\")\n",
    "else:\n",
    "    print(\"La distribution des prix n'est pas normale -> l'hypothèse nulle H0 est rejetée\")\n",
    "    "
   ]
  },
  {
   "cell_type": "markdown",
   "metadata": {},
   "source": [
    "---\n",
    "### 1.6 - On retiens l'hypothèse alternative H1\n",
    "---"
   ]
  },
  {
   "cell_type": "markdown",
   "metadata": {},
   "source": [
    "\n",
    "<div style=\" background-color: rgb(343, 197, 37);\" >\n",
    "<h2 style=\"padding: 10px; color: white; text-align: center\" > Representation graphique\n",
    "</h2>\n",
    "</div>"
   ]
  },
  {
   "cell_type": "code",
   "execution_count": 46,
   "metadata": {},
   "outputs": [
    {
     "data": {
      "image/png": "[encoded data removed]",
      "text/plain": [
       "<Figure size 640x480 with 1 Axes>"
      ]
     },
     "metadata": {},
     "output_type": "display_data"
    }
   ],
   "source": [
    "df_stat['price'].hist(bins=50)\n",
    "\n",
    "# Generate data for the normal distribution\n",
    "mu = df_stat['price'].mean()\n",
    "sigma = df_stat['price'].std()\n",
    "x = np.linspace(mu - 3*sigma, mu + 3*sigma, 100)\n",
    "y = stats.norm.pdf(x, mu, sigma)\n",
    "\n",
    "# Plot the normal distribution curve\n",
    "plt.plot(x, y)\n",
    "plt.axvline(x=np.percentile(df_stat['price'], 25), color='r', linestyle='--')\n",
    "plt.axvline(x=np.percentile(df_stat['price'], 75), color='r', linestyle='--')\n",
    "plt.xlabel('Price')\n",
    "plt.ylabel('Probability Density')\n",
    "plt.show()"
   ]
  },
  {
   "cell_type": "markdown",
   "metadata": {},
   "source": [
    "----\n",
    "## Test de normalité sur une variable : année de naissance\n",
    "---"
   ]
  },
  {
   "cell_type": "code",
   "execution_count": 49,
   "metadata": {},
   "outputs": [
    {
     "data": {
      "text/plain": [
       "Timestamp\n",
       "2021-03-01 00:01:07.843138    1967\n",
       "2021-03-01 00:02:26.047414    1960\n",
       "Name: birth, dtype: int64"
      ]
     },
     "execution_count": 49,
     "metadata": {},
     "output_type": "execute_result"
    }
   ],
   "source": [
    "# choix de la variable à étudier : année de naissance\n",
    "df_stat['birth'].head(2)   "
   ]
  },
  {
   "cell_type": "code",
   "execution_count": 50,
   "metadata": {},
   "outputs": [
    {
     "name": "stdout",
     "output_type": "stream",
     "text": [
      "la moyenne (x barre) empirique est 1977.82\n",
      "l'écart type ou stand.dev. (sigma) empirique est 13.61\n",
      "la variance est de 185.18\n"
     ]
    }
   ],
   "source": [
    "print(f\"la moyenne (x barre) empirique est {round(df_stat['birth'].mean(), 2)}\")\n",
    "print(f\"l'écart type ou stand.dev. (sigma) empirique est {round(df_stat['birth'].std(), 2)}\")\n",
    "print(f\"la variance est de {round(df_stat['birth'].var(), 2)}\")"
   ]
  },
  {
   "cell_type": "code",
   "execution_count": null,
   "metadata": {},
   "outputs": [],
   "source": []
  }
 ],
 "metadata": {
  "kernelspec": {
   "display_name": "venv6",
   "language": "python",
   "name": "python3"
  },
  "language_info": {
   "codemirror_mode": {
    "name": "ipython",
    "version": 3
   },
   "file_extension": ".py",
   "mimetype": "text/x-python",
   "name": "python",
   "nbconvert_exporter": "python",
   "pygments_lexer": "ipython3",
   "version": "3.12.3"
  }
 },
 "nbformat": 4,
 "nbformat_minor": 2
}
